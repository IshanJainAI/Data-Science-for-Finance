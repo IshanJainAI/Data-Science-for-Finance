{
  "cells": [
    {
      "cell_type": "markdown",
      "source": [
        "# Credit Risk Modeling "
      ],
      "metadata": {
        "id": "qG7lGRT8w1HX"
      }
    },
    {
      "cell_type": "markdown",
      "metadata": {
        "id": "5ddCAhU2-W13"
      },
      "source": [
        "Objective - to predict Probability of Default (PD)"
      ]
    },
    {
      "cell_type": "markdown",
      "metadata": {
        "id": "8ckDaiCv-W1_"
      },
      "source": [
        "# Exploring the Data"
      ]
    },
    {
      "cell_type": "code",
      "execution_count": 1,
      "metadata": {
        "id": "iZummj4P-W1_"
      },
      "outputs": [],
      "source": [
        "#import the libraries\n",
        "import pandas as pd\n",
        "import numpy as np\n",
        "import matplotlib.pyplot as plt"
      ]
    },
    {
      "cell_type": "code",
      "source": [
        "from google.colab import drive\n",
        "drive.mount('/gdrive')"
      ],
      "metadata": {
        "colab": {
          "base_uri": "https://localhost:8080/"
        },
        "id": "2lkNcncL-kXe",
        "outputId": "baf33ffe-1df9-45a6-9ff3-420936f4ace8"
      },
      "execution_count": 3,
      "outputs": [
        {
          "output_type": "stream",
          "name": "stdout",
          "text": [
            "Mounted at /gdrive\n"
          ]
        }
      ]
    },
    {
      "cell_type": "code",
      "source": [
        "cd ../gdrive/My Drive/Colab Notebooks/_AI for Finance/Project 4 - Credit Risk Modelling"
      ],
      "metadata": {
        "colab": {
          "base_uri": "https://localhost:8080/"
        },
        "id": "EW4BJkhz-kcS",
        "outputId": "e6b350bd-b8a4-4095-b848-8166f2cfaf48"
      },
      "execution_count": 4,
      "outputs": [
        {
          "output_type": "stream",
          "name": "stdout",
          "text": [
            "/gdrive/My Drive/Colab Notebooks/_AI for Finance/Project 4 - Credit Risk Modelling\n"
          ]
        }
      ]
    },
    {
      "cell_type": "code",
      "execution_count": 5,
      "metadata": {
        "id": "yd77ekMA-W2B"
      },
      "outputs": [],
      "source": [
        "cr_loan = pd.read_csv('bank_loan2.csv')"
      ]
    },
    {
      "cell_type": "code",
      "execution_count": 6,
      "metadata": {
        "colab": {
          "base_uri": "https://localhost:8080/"
        },
        "id": "NA4Tczkr-W2B",
        "outputId": "2ea125cb-21b1-4bbb-e861-a41f6a072952"
      },
      "outputs": [
        {
          "output_type": "execute_result",
          "data": {
            "text/plain": [
              "Index(['person_age', 'person_income', 'person_home_ownership',\n",
              "       'person_emp_length', 'loan_intent', 'loan_grade', 'loan_amnt',\n",
              "       'loan_int_rate', 'loan_status', 'loan_percent_income',\n",
              "       'cb_person_default_on_file', 'cb_person_cred_hist_length'],\n",
              "      dtype='object')"
            ]
          },
          "metadata": {},
          "execution_count": 6
        }
      ],
      "source": [
        "cr_loan.columns"
      ]
    },
    {
      "cell_type": "code",
      "execution_count": 7,
      "metadata": {
        "colab": {
          "base_uri": "https://localhost:8080/"
        },
        "id": "qDfU_xLP-W2D",
        "outputId": "f4472668-001e-403b-cadd-52ceccb20afe"
      },
      "outputs": [
        {
          "output_type": "stream",
          "name": "stdout",
          "text": [
            "<class 'pandas.core.frame.DataFrame'>\n",
            "RangeIndex: 32581 entries, 0 to 32580\n",
            "Data columns (total 12 columns):\n",
            " #   Column                      Non-Null Count  Dtype  \n",
            "---  ------                      --------------  -----  \n",
            " 0   person_age                  32581 non-null  int64  \n",
            " 1   person_income               32581 non-null  int64  \n",
            " 2   person_home_ownership       32581 non-null  object \n",
            " 3   person_emp_length           31686 non-null  float64\n",
            " 4   loan_intent                 32581 non-null  object \n",
            " 5   loan_grade                  32581 non-null  object \n",
            " 6   loan_amnt                   32581 non-null  int64  \n",
            " 7   loan_int_rate               29465 non-null  float64\n",
            " 8   loan_status                 32581 non-null  int64  \n",
            " 9   loan_percent_income         32581 non-null  float64\n",
            " 10  cb_person_default_on_file   32581 non-null  object \n",
            " 11  cb_person_cred_hist_length  32581 non-null  int64  \n",
            "dtypes: float64(3), int64(5), object(4)\n",
            "memory usage: 3.0+ MB\n"
          ]
        }
      ],
      "source": [
        "cr_loan.info()"
      ]
    },
    {
      "cell_type": "code",
      "source": [
        "cr_loan.shape"
      ],
      "metadata": {
        "colab": {
          "base_uri": "https://localhost:8080/"
        },
        "id": "ST1pA-sTxf4V",
        "outputId": "239b98c2-0167-4961-99db-175e7e8cf0fb"
      },
      "execution_count": 8,
      "outputs": [
        {
          "output_type": "execute_result",
          "data": {
            "text/plain": [
              "(32581, 12)"
            ]
          },
          "metadata": {},
          "execution_count": 8
        }
      ]
    },
    {
      "cell_type": "code",
      "execution_count": 9,
      "metadata": {
        "colab": {
          "base_uri": "https://localhost:8080/",
          "height": 270
        },
        "id": "B_gkDyEo-W2D",
        "outputId": "dd9058e7-9f50-4465-933a-71ae9e9980b1"
      },
      "outputs": [
        {
          "output_type": "execute_result",
          "data": {
            "text/plain": [
              "   person_age  person_income person_home_ownership  person_emp_length  \\\n",
              "0          22          59000                  RENT              123.0   \n",
              "1          21           9600                   OWN                5.0   \n",
              "2          25           9600              MORTGAGE                1.0   \n",
              "3          23          65500                  RENT                4.0   \n",
              "4          24          54400                  RENT                8.0   \n",
              "\n",
              "  loan_intent loan_grade  loan_amnt  loan_int_rate  loan_status  \\\n",
              "0    PERSONAL          D      35000          16.02            1   \n",
              "1   EDUCATION          B       1000          11.14            0   \n",
              "2     MEDICAL          C       5500          12.87            1   \n",
              "3     MEDICAL          C      35000          15.23            1   \n",
              "4     MEDICAL          C      35000          14.27            1   \n",
              "\n",
              "   loan_percent_income cb_person_default_on_file  cb_person_cred_hist_length  \n",
              "0                 0.59                         Y                           3  \n",
              "1                 0.10                         N                           2  \n",
              "2                 0.57                         N                           3  \n",
              "3                 0.53                         N                           2  \n",
              "4                 0.55                         Y                           4  "
            ],
            "text/html": [
              "\n",
              "  <div id=\"df-ae6599ea-0d41-4edd-ae88-40467f189d54\">\n",
              "    <div class=\"colab-df-container\">\n",
              "      <div>\n",
              "<style scoped>\n",
              "    .dataframe tbody tr th:only-of-type {\n",
              "        vertical-align: middle;\n",
              "    }\n",
              "\n",
              "    .dataframe tbody tr th {\n",
              "        vertical-align: top;\n",
              "    }\n",
              "\n",
              "    .dataframe thead th {\n",
              "        text-align: right;\n",
              "    }\n",
              "</style>\n",
              "<table border=\"1\" class=\"dataframe\">\n",
              "  <thead>\n",
              "    <tr style=\"text-align: right;\">\n",
              "      <th></th>\n",
              "      <th>person_age</th>\n",
              "      <th>person_income</th>\n",
              "      <th>person_home_ownership</th>\n",
              "      <th>person_emp_length</th>\n",
              "      <th>loan_intent</th>\n",
              "      <th>loan_grade</th>\n",
              "      <th>loan_amnt</th>\n",
              "      <th>loan_int_rate</th>\n",
              "      <th>loan_status</th>\n",
              "      <th>loan_percent_income</th>\n",
              "      <th>cb_person_default_on_file</th>\n",
              "      <th>cb_person_cred_hist_length</th>\n",
              "    </tr>\n",
              "  </thead>\n",
              "  <tbody>\n",
              "    <tr>\n",
              "      <th>0</th>\n",
              "      <td>22</td>\n",
              "      <td>59000</td>\n",
              "      <td>RENT</td>\n",
              "      <td>123.0</td>\n",
              "      <td>PERSONAL</td>\n",
              "      <td>D</td>\n",
              "      <td>35000</td>\n",
              "      <td>16.02</td>\n",
              "      <td>1</td>\n",
              "      <td>0.59</td>\n",
              "      <td>Y</td>\n",
              "      <td>3</td>\n",
              "    </tr>\n",
              "    <tr>\n",
              "      <th>1</th>\n",
              "      <td>21</td>\n",
              "      <td>9600</td>\n",
              "      <td>OWN</td>\n",
              "      <td>5.0</td>\n",
              "      <td>EDUCATION</td>\n",
              "      <td>B</td>\n",
              "      <td>1000</td>\n",
              "      <td>11.14</td>\n",
              "      <td>0</td>\n",
              "      <td>0.10</td>\n",
              "      <td>N</td>\n",
              "      <td>2</td>\n",
              "    </tr>\n",
              "    <tr>\n",
              "      <th>2</th>\n",
              "      <td>25</td>\n",
              "      <td>9600</td>\n",
              "      <td>MORTGAGE</td>\n",
              "      <td>1.0</td>\n",
              "      <td>MEDICAL</td>\n",
              "      <td>C</td>\n",
              "      <td>5500</td>\n",
              "      <td>12.87</td>\n",
              "      <td>1</td>\n",
              "      <td>0.57</td>\n",
              "      <td>N</td>\n",
              "      <td>3</td>\n",
              "    </tr>\n",
              "    <tr>\n",
              "      <th>3</th>\n",
              "      <td>23</td>\n",
              "      <td>65500</td>\n",
              "      <td>RENT</td>\n",
              "      <td>4.0</td>\n",
              "      <td>MEDICAL</td>\n",
              "      <td>C</td>\n",
              "      <td>35000</td>\n",
              "      <td>15.23</td>\n",
              "      <td>1</td>\n",
              "      <td>0.53</td>\n",
              "      <td>N</td>\n",
              "      <td>2</td>\n",
              "    </tr>\n",
              "    <tr>\n",
              "      <th>4</th>\n",
              "      <td>24</td>\n",
              "      <td>54400</td>\n",
              "      <td>RENT</td>\n",
              "      <td>8.0</td>\n",
              "      <td>MEDICAL</td>\n",
              "      <td>C</td>\n",
              "      <td>35000</td>\n",
              "      <td>14.27</td>\n",
              "      <td>1</td>\n",
              "      <td>0.55</td>\n",
              "      <td>Y</td>\n",
              "      <td>4</td>\n",
              "    </tr>\n",
              "  </tbody>\n",
              "</table>\n",
              "</div>\n",
              "      <button class=\"colab-df-convert\" onclick=\"convertToInteractive('df-ae6599ea-0d41-4edd-ae88-40467f189d54')\"\n",
              "              title=\"Convert this dataframe to an interactive table.\"\n",
              "              style=\"display:none;\">\n",
              "        \n",
              "  <svg xmlns=\"http://www.w3.org/2000/svg\" height=\"24px\"viewBox=\"0 0 24 24\"\n",
              "       width=\"24px\">\n",
              "    <path d=\"M0 0h24v24H0V0z\" fill=\"none\"/>\n",
              "    <path d=\"M18.56 5.44l.94 2.06.94-2.06 2.06-.94-2.06-.94-.94-2.06-.94 2.06-2.06.94zm-11 1L8.5 8.5l.94-2.06 2.06-.94-2.06-.94L8.5 2.5l-.94 2.06-2.06.94zm10 10l.94 2.06.94-2.06 2.06-.94-2.06-.94-.94-2.06-.94 2.06-2.06.94z\"/><path d=\"M17.41 7.96l-1.37-1.37c-.4-.4-.92-.59-1.43-.59-.52 0-1.04.2-1.43.59L10.3 9.45l-7.72 7.72c-.78.78-.78 2.05 0 2.83L4 21.41c.39.39.9.59 1.41.59.51 0 1.02-.2 1.41-.59l7.78-7.78 2.81-2.81c.8-.78.8-2.07 0-2.86zM5.41 20L4 18.59l7.72-7.72 1.47 1.35L5.41 20z\"/>\n",
              "  </svg>\n",
              "      </button>\n",
              "      \n",
              "  <style>\n",
              "    .colab-df-container {\n",
              "      display:flex;\n",
              "      flex-wrap:wrap;\n",
              "      gap: 12px;\n",
              "    }\n",
              "\n",
              "    .colab-df-convert {\n",
              "      background-color: #E8F0FE;\n",
              "      border: none;\n",
              "      border-radius: 50%;\n",
              "      cursor: pointer;\n",
              "      display: none;\n",
              "      fill: #1967D2;\n",
              "      height: 32px;\n",
              "      padding: 0 0 0 0;\n",
              "      width: 32px;\n",
              "    }\n",
              "\n",
              "    .colab-df-convert:hover {\n",
              "      background-color: #E2EBFA;\n",
              "      box-shadow: 0px 1px 2px rgba(60, 64, 67, 0.3), 0px 1px 3px 1px rgba(60, 64, 67, 0.15);\n",
              "      fill: #174EA6;\n",
              "    }\n",
              "\n",
              "    [theme=dark] .colab-df-convert {\n",
              "      background-color: #3B4455;\n",
              "      fill: #D2E3FC;\n",
              "    }\n",
              "\n",
              "    [theme=dark] .colab-df-convert:hover {\n",
              "      background-color: #434B5C;\n",
              "      box-shadow: 0px 1px 3px 1px rgba(0, 0, 0, 0.15);\n",
              "      filter: drop-shadow(0px 1px 2px rgba(0, 0, 0, 0.3));\n",
              "      fill: #FFFFFF;\n",
              "    }\n",
              "  </style>\n",
              "\n",
              "      <script>\n",
              "        const buttonEl =\n",
              "          document.querySelector('#df-ae6599ea-0d41-4edd-ae88-40467f189d54 button.colab-df-convert');\n",
              "        buttonEl.style.display =\n",
              "          google.colab.kernel.accessAllowed ? 'block' : 'none';\n",
              "\n",
              "        async function convertToInteractive(key) {\n",
              "          const element = document.querySelector('#df-ae6599ea-0d41-4edd-ae88-40467f189d54');\n",
              "          const dataTable =\n",
              "            await google.colab.kernel.invokeFunction('convertToInteractive',\n",
              "                                                     [key], {});\n",
              "          if (!dataTable) return;\n",
              "\n",
              "          const docLinkHtml = 'Like what you see? Visit the ' +\n",
              "            '<a target=\"_blank\" href=https://colab.research.google.com/notebooks/data_table.ipynb>data table notebook</a>'\n",
              "            + ' to learn more about interactive tables.';\n",
              "          element.innerHTML = '';\n",
              "          dataTable['output_type'] = 'display_data';\n",
              "          await google.colab.output.renderOutput(dataTable, element);\n",
              "          const docLink = document.createElement('div');\n",
              "          docLink.innerHTML = docLinkHtml;\n",
              "          element.appendChild(docLink);\n",
              "        }\n",
              "      </script>\n",
              "    </div>\n",
              "  </div>\n",
              "  "
            ]
          },
          "metadata": {},
          "execution_count": 9
        }
      ],
      "source": [
        "cr_loan.head()"
      ]
    },
    {
      "cell_type": "code",
      "execution_count": 10,
      "metadata": {
        "colab": {
          "base_uri": "https://localhost:8080/",
          "height": 279
        },
        "id": "Y5lLuShb-W2G",
        "outputId": "2ac92c53-c479-4fb6-a358-abc28d24cf81"
      },
      "outputs": [
        {
          "output_type": "display_data",
          "data": {
            "text/plain": [
              "<Figure size 432x288 with 1 Axes>"
            ],
            "image/png": "[encoded data removed]"
          },
          "metadata": {
            "needs_background": "light"
          }
        }
      ],
      "source": [
        "# Look at the distribution of loan amounts with a histogram\n",
        "n, bins, patches = plt.hist(x=cr_loan['loan_amnt'], bins='auto', color='blue',alpha=0.7, rwidth=0.85)\n",
        "plt.xlabel(\"Loan Amount\")\n",
        "plt.show()"
      ]
    },
    {
      "cell_type": "code",
      "execution_count": 11,
      "metadata": {
        "colab": {
          "base_uri": "https://localhost:8080/",
          "height": 279
        },
        "id": "DAFjpXT8-W2H",
        "outputId": "7c37dd85-1248-4942-aba5-9963dc55e7f5"
      },
      "outputs": [
        {
          "output_type": "display_data",
          "data": {
            "text/plain": [
              "<Figure size 432x288 with 1 Axes>"
            ],
            "image/png": "[encoded data removed]"
          },
          "metadata": {
            "needs_background": "light"
          }
        }
      ],
      "source": [
        "#exploring the relationship between income and age\n",
        "\n",
        "# Plot a scatter plot of income against age\n",
        "plt.scatter(cr_loan['person_income'], cr_loan['person_age'],c='blue', alpha=0.5)\n",
        "plt.xlabel('Personal Income')\n",
        "plt.ylabel('Person Age')\n",
        "plt.show()"
      ]
    },
    {
      "cell_type": "code",
      "execution_count": 12,
      "metadata": {
        "colab": {
          "base_uri": "https://localhost:8080/",
          "height": 300
        },
        "id": "vt6rjI8P-W2I",
        "outputId": "c27a7518-9b19-4acc-da64-1a73f9b55f01"
      },
      "outputs": [
        {
          "output_type": "execute_result",
          "data": {
            "text/plain": [
              "loan_status            0     1    All\n",
              "loan_intent                          \n",
              "DEBTCONSOLIDATION   3722  1490   5212\n",
              "EDUCATION           5342  1111   6453\n",
              "HOMEIMPROVEMENT     2664   941   3605\n",
              "MEDICAL             4450  1621   6071\n",
              "PERSONAL            4423  1098   5521\n",
              "VENTURE             4872   847   5719\n",
              "All                25473  7108  32581"
            ],
            "text/html": [
              "\n",
              "  <div id=\"df-9b5b9034-709b-423d-b08e-72785239e055\">\n",
              "    <div class=\"colab-df-container\">\n",
              "      <div>\n",
              "<style scoped>\n",
              "    .dataframe tbody tr th:only-of-type {\n",
              "        vertical-align: middle;\n",
              "    }\n",
              "\n",
              "    .dataframe tbody tr th {\n",
              "        vertical-align: top;\n",
              "    }\n",
              "\n",
              "    .dataframe thead th {\n",
              "        text-align: right;\n",
              "    }\n",
              "</style>\n",
              "<table border=\"1\" class=\"dataframe\">\n",
              "  <thead>\n",
              "    <tr style=\"text-align: right;\">\n",
              "      <th>loan_status</th>\n",
              "      <th>0</th>\n",
              "      <th>1</th>\n",
              "      <th>All</th>\n",
              "    </tr>\n",
              "    <tr>\n",
              "      <th>loan_intent</th>\n",
              "      <th></th>\n",
              "      <th></th>\n",
              "      <th></th>\n",
              "    </tr>\n",
              "  </thead>\n",
              "  <tbody>\n",
              "    <tr>\n",
              "      <th>DEBTCONSOLIDATION</th>\n",
              "      <td>3722</td>\n",
              "      <td>1490</td>\n",
              "      <td>5212</td>\n",
              "    </tr>\n",
              "    <tr>\n",
              "      <th>EDUCATION</th>\n",
              "      <td>5342</td>\n",
              "      <td>1111</td>\n",
              "      <td>6453</td>\n",
              "    </tr>\n",
              "    <tr>\n",
              "      <th>HOMEIMPROVEMENT</th>\n",
              "      <td>2664</td>\n",
              "      <td>941</td>\n",
              "      <td>3605</td>\n",
              "    </tr>\n",
              "    <tr>\n",
              "      <th>MEDICAL</th>\n",
              "      <td>4450</td>\n",
              "      <td>1621</td>\n",
              "      <td>6071</td>\n",
              "    </tr>\n",
              "    <tr>\n",
              "      <th>PERSONAL</th>\n",
              "      <td>4423</td>\n",
              "      <td>1098</td>\n",
              "      <td>5521</td>\n",
              "    </tr>\n",
              "    <tr>\n",
              "      <th>VENTURE</th>\n",
              "      <td>4872</td>\n",
              "      <td>847</td>\n",
              "      <td>5719</td>\n",
              "    </tr>\n",
              "    <tr>\n",
              "      <th>All</th>\n",
              "      <td>25473</td>\n",
              "      <td>7108</td>\n",
              "      <td>32581</td>\n",
              "    </tr>\n",
              "  </tbody>\n",
              "</table>\n",
              "</div>\n",
              "      <button class=\"colab-df-convert\" onclick=\"convertToInteractive('df-9b5b9034-709b-423d-b08e-72785239e055')\"\n",
              "              title=\"Convert this dataframe to an interactive table.\"\n",
              "              style=\"display:none;\">\n",
              "        \n",
              "  <svg xmlns=\"http://www.w3.org/2000/svg\" height=\"24px\"viewBox=\"0 0 24 24\"\n",
              "       width=\"24px\">\n",
              "    <path d=\"M0 0h24v24H0V0z\" fill=\"none\"/>\n",
              "    <path d=\"M18.56 5.44l.94 2.06.94-2.06 2.06-.94-2.06-.94-.94-2.06-.94 2.06-2.06.94zm-11 1L8.5 8.5l.94-2.06 2.06-.94-2.06-.94L8.5 2.5l-.94 2.06-2.06.94zm10 10l.94 2.06.94-2.06 2.06-.94-2.06-.94-.94-2.06-.94 2.06-2.06.94z\"/><path d=\"M17.41 7.96l-1.37-1.37c-.4-.4-.92-.59-1.43-.59-.52 0-1.04.2-1.43.59L10.3 9.45l-7.72 7.72c-.78.78-.78 2.05 0 2.83L4 21.41c.39.39.9.59 1.41.59.51 0 1.02-.2 1.41-.59l7.78-7.78 2.81-2.81c.8-.78.8-2.07 0-2.86zM5.41 20L4 18.59l7.72-7.72 1.47 1.35L5.41 20z\"/>\n",
              "  </svg>\n",
              "      </button>\n",
              "      \n",
              "  <style>\n",
              "    .colab-df-container {\n",
              "      display:flex;\n",
              "      flex-wrap:wrap;\n",
              "      gap: 12px;\n",
              "    }\n",
              "\n",
              "    .colab-df-convert {\n",
              "      background-color: #E8F0FE;\n",
              "      border: none;\n",
              "      border-radius: 50%;\n",
              "      cursor: pointer;\n",
              "      display: none;\n",
              "      fill: #1967D2;\n",
              "      height: 32px;\n",
              "      padding: 0 0 0 0;\n",
              "      width: 32px;\n",
              "    }\n",
              "\n",
              "    .colab-df-convert:hover {\n",
              "      background-color: #E2EBFA;\n",
              "      box-shadow: 0px 1px 2px rgba(60, 64, 67, 0.3), 0px 1px 3px 1px rgba(60, 64, 67, 0.15);\n",
              "      fill: #174EA6;\n",
              "    }\n",
              "\n",
              "    [theme=dark] .colab-df-convert {\n",
              "      background-color: #3B4455;\n",
              "      fill: #D2E3FC;\n",
              "    }\n",
              "\n",
              "    [theme=dark] .colab-df-convert:hover {\n",
              "      background-color: #434B5C;\n",
              "      box-shadow: 0px 1px 3px 1px rgba(0, 0, 0, 0.15);\n",
              "      filter: drop-shadow(0px 1px 2px rgba(0, 0, 0, 0.3));\n",
              "      fill: #FFFFFF;\n",
              "    }\n",
              "  </style>\n",
              "\n",
              "      <script>\n",
              "        const buttonEl =\n",
              "          document.querySelector('#df-9b5b9034-709b-423d-b08e-72785239e055 button.colab-df-convert');\n",
              "        buttonEl.style.display =\n",
              "          google.colab.kernel.accessAllowed ? 'block' : 'none';\n",
              "\n",
              "        async function convertToInteractive(key) {\n",
              "          const element = document.querySelector('#df-9b5b9034-709b-423d-b08e-72785239e055');\n",
              "          const dataTable =\n",
              "            await google.colab.kernel.invokeFunction('convertToInteractive',\n",
              "                                                     [key], {});\n",
              "          if (!dataTable) return;\n",
              "\n",
              "          const docLinkHtml = 'Like what you see? Visit the ' +\n",
              "            '<a target=\"_blank\" href=https://colab.research.google.com/notebooks/data_table.ipynb>data table notebook</a>'\n",
              "            + ' to learn more about interactive tables.';\n",
              "          element.innerHTML = '';\n",
              "          dataTable['output_type'] = 'display_data';\n",
              "          await google.colab.output.renderOutput(dataTable, element);\n",
              "          const docLink = document.createElement('div');\n",
              "          docLink.innerHTML = docLinkHtml;\n",
              "          element.appendChild(docLink);\n",
              "        }\n",
              "      </script>\n",
              "    </div>\n",
              "  </div>\n",
              "  "
            ]
          },
          "metadata": {},
          "execution_count": 12
        }
      ],
      "source": [
        "pd.crosstab(cr_loan['loan_intent'], cr_loan['loan_status'], margins = True)"
      ]
    },
    {
      "cell_type": "code",
      "execution_count": 13,
      "metadata": {
        "colab": {
          "base_uri": "https://localhost:8080/",
          "height": 237
        },
        "id": "FD1HP--j-W2J",
        "outputId": "61ff382e-19f3-403b-ac2c-e2f7f833b51f"
      },
      "outputs": [
        {
          "output_type": "execute_result",
          "data": {
            "text/plain": [
              "loan_status               0                                 1             \\\n",
              "loan_grade                A     B     C    D    E   F  G    A     B    C   \n",
              "person_home_ownership                                                      \n",
              "MORTGAGE               5219  3729  1934  658  178  36  0  239   324  321   \n",
              "OTHER                    23    29    11    9    2   0  0    3     5    6   \n",
              "OWN                     860   770   464  264   26   7  0   66    34   31   \n",
              "RENT                   3602  4222  2710  554  137  28  1  765  1338  981   \n",
              "\n",
              "loan_status                               \n",
              "loan_grade                D    E   F   G  \n",
              "person_home_ownership                     \n",
              "MORTGAGE                553  161  61  31  \n",
              "OTHER                    11    6   2   0  \n",
              "OWN                      18   31   8   5  \n",
              "RENT                   1559  423  99  27  "
            ],
            "text/html": [
              "\n",
              "  <div id=\"df-93ab094f-e87b-4fca-9bc1-6583e5c0fb93\">\n",
              "    <div class=\"colab-df-container\">\n",
              "      <div>\n",
              "<style scoped>\n",
              "    .dataframe tbody tr th:only-of-type {\n",
              "        vertical-align: middle;\n",
              "    }\n",
              "\n",
              "    .dataframe tbody tr th {\n",
              "        vertical-align: top;\n",
              "    }\n",
              "\n",
              "    .dataframe thead tr th {\n",
              "        text-align: left;\n",
              "    }\n",
              "\n",
              "    .dataframe thead tr:last-of-type th {\n",
              "        text-align: right;\n",
              "    }\n",
              "</style>\n",
              "<table border=\"1\" class=\"dataframe\">\n",
              "  <thead>\n",
              "    <tr>\n",
              "      <th>loan_status</th>\n",
              "      <th colspan=\"7\" halign=\"left\">0</th>\n",
              "      <th colspan=\"7\" halign=\"left\">1</th>\n",
              "    </tr>\n",
              "    <tr>\n",
              "      <th>loan_grade</th>\n",
              "      <th>A</th>\n",
              "      <th>B</th>\n",
              "      <th>C</th>\n",
              "      <th>D</th>\n",
              "      <th>E</th>\n",
              "      <th>F</th>\n",
              "      <th>G</th>\n",
              "      <th>A</th>\n",
              "      <th>B</th>\n",
              "      <th>C</th>\n",
              "      <th>D</th>\n",
              "      <th>E</th>\n",
              "      <th>F</th>\n",
              "      <th>G</th>\n",
              "    </tr>\n",
              "    <tr>\n",
              "      <th>person_home_ownership</th>\n",
              "      <th></th>\n",
              "      <th></th>\n",
              "      <th></th>\n",
              "      <th></th>\n",
              "      <th></th>\n",
              "      <th></th>\n",
              "      <th></th>\n",
              "      <th></th>\n",
              "      <th></th>\n",
              "      <th></th>\n",
              "      <th></th>\n",
              "      <th></th>\n",
              "      <th></th>\n",
              "      <th></th>\n",
              "    </tr>\n",
              "  </thead>\n",
              "  <tbody>\n",
              "    <tr>\n",
              "      <th>MORTGAGE</th>\n",
              "      <td>5219</td>\n",
              "      <td>3729</td>\n",
              "      <td>1934</td>\n",
              "      <td>658</td>\n",
              "      <td>178</td>\n",
              "      <td>36</td>\n",
              "      <td>0</td>\n",
              "      <td>239</td>\n",
              "      <td>324</td>\n",
              "      <td>321</td>\n",
              "      <td>553</td>\n",
              "      <td>161</td>\n",
              "      <td>61</td>\n",
              "      <td>31</td>\n",
              "    </tr>\n",
              "    <tr>\n",
              "      <th>OTHER</th>\n",
              "      <td>23</td>\n",
              "      <td>29</td>\n",
              "      <td>11</td>\n",
              "      <td>9</td>\n",
              "      <td>2</td>\n",
              "      <td>0</td>\n",
              "      <td>0</td>\n",
              "      <td>3</td>\n",
              "      <td>5</td>\n",
              "      <td>6</td>\n",
              "      <td>11</td>\n",
              "      <td>6</td>\n",
              "      <td>2</td>\n",
              "      <td>0</td>\n",
              "    </tr>\n",
              "    <tr>\n",
              "      <th>OWN</th>\n",
              "      <td>860</td>\n",
              "      <td>770</td>\n",
              "      <td>464</td>\n",
              "      <td>264</td>\n",
              "      <td>26</td>\n",
              "      <td>7</td>\n",
              "      <td>0</td>\n",
              "      <td>66</td>\n",
              "      <td>34</td>\n",
              "      <td>31</td>\n",
              "      <td>18</td>\n",
              "      <td>31</td>\n",
              "      <td>8</td>\n",
              "      <td>5</td>\n",
              "    </tr>\n",
              "    <tr>\n",
              "      <th>RENT</th>\n",
              "      <td>3602</td>\n",
              "      <td>4222</td>\n",
              "      <td>2710</td>\n",
              "      <td>554</td>\n",
              "      <td>137</td>\n",
              "      <td>28</td>\n",
              "      <td>1</td>\n",
              "      <td>765</td>\n",
              "      <td>1338</td>\n",
              "      <td>981</td>\n",
              "      <td>1559</td>\n",
              "      <td>423</td>\n",
              "      <td>99</td>\n",
              "      <td>27</td>\n",
              "    </tr>\n",
              "  </tbody>\n",
              "</table>\n",
              "</div>\n",
              "      <button class=\"colab-df-convert\" onclick=\"convertToInteractive('df-93ab094f-e87b-4fca-9bc1-6583e5c0fb93')\"\n",
              "              title=\"Convert this dataframe to an interactive table.\"\n",
              "              style=\"display:none;\">\n",
              "        \n",
              "  <svg xmlns=\"http://www.w3.org/2000/svg\" height=\"24px\"viewBox=\"0 0 24 24\"\n",
              "       width=\"24px\">\n",
              "    <path d=\"M0 0h24v24H0V0z\" fill=\"none\"/>\n",
              "    <path d=\"M18.56 5.44l.94 2.06.94-2.06 2.06-.94-2.06-.94-.94-2.06-.94 2.06-2.06.94zm-11 1L8.5 8.5l.94-2.06 2.06-.94-2.06-.94L8.5 2.5l-.94 2.06-2.06.94zm10 10l.94 2.06.94-2.06 2.06-.94-2.06-.94-.94-2.06-.94 2.06-2.06.94z\"/><path d=\"M17.41 7.96l-1.37-1.37c-.4-.4-.92-.59-1.43-.59-.52 0-1.04.2-1.43.59L10.3 9.45l-7.72 7.72c-.78.78-.78 2.05 0 2.83L4 21.41c.39.39.9.59 1.41.59.51 0 1.02-.2 1.41-.59l7.78-7.78 2.81-2.81c.8-.78.8-2.07 0-2.86zM5.41 20L4 18.59l7.72-7.72 1.47 1.35L5.41 20z\"/>\n",
              "  </svg>\n",
              "      </button>\n",
              "      \n",
              "  <style>\n",
              "    .colab-df-container {\n",
              "      display:flex;\n",
              "      flex-wrap:wrap;\n",
              "      gap: 12px;\n",
              "    }\n",
              "\n",
              "    .colab-df-convert {\n",
              "      background-color: #E8F0FE;\n",
              "      border: none;\n",
              "      border-radius: 50%;\n",
              "      cursor: pointer;\n",
              "      display: none;\n",
              "      fill: #1967D2;\n",
              "      height: 32px;\n",
              "      padding: 0 0 0 0;\n",
              "      width: 32px;\n",
              "    }\n",
              "\n",
              "    .colab-df-convert:hover {\n",
              "      background-color: #E2EBFA;\n",
              "      box-shadow: 0px 1px 2px rgba(60, 64, 67, 0.3), 0px 1px 3px 1px rgba(60, 64, 67, 0.15);\n",
              "      fill: #174EA6;\n",
              "    }\n",
              "\n",
              "    [theme=dark] .colab-df-convert {\n",
              "      background-color: #3B4455;\n",
              "      fill: #D2E3FC;\n",
              "    }\n",
              "\n",
              "    [theme=dark] .colab-df-convert:hover {\n",
              "      background-color: #434B5C;\n",
              "      box-shadow: 0px 1px 3px 1px rgba(0, 0, 0, 0.15);\n",
              "      filter: drop-shadow(0px 1px 2px rgba(0, 0, 0, 0.3));\n",
              "      fill: #FFFFFF;\n",
              "    }\n",
              "  </style>\n",
              "\n",
              "      <script>\n",
              "        const buttonEl =\n",
              "          document.querySelector('#df-93ab094f-e87b-4fca-9bc1-6583e5c0fb93 button.colab-df-convert');\n",
              "        buttonEl.style.display =\n",
              "          google.colab.kernel.accessAllowed ? 'block' : 'none';\n",
              "\n",
              "        async function convertToInteractive(key) {\n",
              "          const element = document.querySelector('#df-93ab094f-e87b-4fca-9bc1-6583e5c0fb93');\n",
              "          const dataTable =\n",
              "            await google.colab.kernel.invokeFunction('convertToInteractive',\n",
              "                                                     [key], {});\n",
              "          if (!dataTable) return;\n",
              "\n",
              "          const docLinkHtml = 'Like what you see? Visit the ' +\n",
              "            '<a target=\"_blank\" href=https://colab.research.google.com/notebooks/data_table.ipynb>data table notebook</a>'\n",
              "            + ' to learn more about interactive tables.';\n",
              "          element.innerHTML = '';\n",
              "          dataTable['output_type'] = 'display_data';\n",
              "          await google.colab.output.renderOutput(dataTable, element);\n",
              "          const docLink = document.createElement('div');\n",
              "          docLink.innerHTML = docLinkHtml;\n",
              "          element.appendChild(docLink);\n",
              "        }\n",
              "      </script>\n",
              "    </div>\n",
              "  </div>\n",
              "  "
            ]
          },
          "metadata": {},
          "execution_count": 13
        }
      ],
      "source": [
        "pd.crosstab(cr_loan['person_home_ownership'],[cr_loan['loan_status'],cr_loan['loan_grade']])"
      ]
    },
    {
      "cell_type": "code",
      "execution_count": 14,
      "metadata": {
        "colab": {
          "base_uri": "https://localhost:8080/",
          "height": 206
        },
        "id": "XR1GCZ_z-W2K",
        "outputId": "cb4f4846-b9b6-459d-81b6-bc436d23ef4b"
      },
      "outputs": [
        {
          "output_type": "execute_result",
          "data": {
            "text/plain": [
              "loan_status                   0         1\n",
              "person_home_ownership                    \n",
              "MORTGAGE               0.146504  0.184882\n",
              "OTHER                  0.143784  0.300000\n",
              "OWN                    0.180013  0.297358\n",
              "RENT                   0.144611  0.264859"
            ],
            "text/html": [
              "\n",
              "  <div id=\"df-cd781460-23fe-4a3c-bbd5-9db43df60a45\">\n",
              "    <div class=\"colab-df-container\">\n",
              "      <div>\n",
              "<style scoped>\n",
              "    .dataframe tbody tr th:only-of-type {\n",
              "        vertical-align: middle;\n",
              "    }\n",
              "\n",
              "    .dataframe tbody tr th {\n",
              "        vertical-align: top;\n",
              "    }\n",
              "\n",
              "    .dataframe thead th {\n",
              "        text-align: right;\n",
              "    }\n",
              "</style>\n",
              "<table border=\"1\" class=\"dataframe\">\n",
              "  <thead>\n",
              "    <tr style=\"text-align: right;\">\n",
              "      <th>loan_status</th>\n",
              "      <th>0</th>\n",
              "      <th>1</th>\n",
              "    </tr>\n",
              "    <tr>\n",
              "      <th>person_home_ownership</th>\n",
              "      <th></th>\n",
              "      <th></th>\n",
              "    </tr>\n",
              "  </thead>\n",
              "  <tbody>\n",
              "    <tr>\n",
              "      <th>MORTGAGE</th>\n",
              "      <td>0.146504</td>\n",
              "      <td>0.184882</td>\n",
              "    </tr>\n",
              "    <tr>\n",
              "      <th>OTHER</th>\n",
              "      <td>0.143784</td>\n",
              "      <td>0.300000</td>\n",
              "    </tr>\n",
              "    <tr>\n",
              "      <th>OWN</th>\n",
              "      <td>0.180013</td>\n",
              "      <td>0.297358</td>\n",
              "    </tr>\n",
              "    <tr>\n",
              "      <th>RENT</th>\n",
              "      <td>0.144611</td>\n",
              "      <td>0.264859</td>\n",
              "    </tr>\n",
              "  </tbody>\n",
              "</table>\n",
              "</div>\n",
              "      <button class=\"colab-df-convert\" onclick=\"convertToInteractive('df-cd781460-23fe-4a3c-bbd5-9db43df60a45')\"\n",
              "              title=\"Convert this dataframe to an interactive table.\"\n",
              "              style=\"display:none;\">\n",
              "        \n",
              "  <svg xmlns=\"http://www.w3.org/2000/svg\" height=\"24px\"viewBox=\"0 0 24 24\"\n",
              "       width=\"24px\">\n",
              "    <path d=\"M0 0h24v24H0V0z\" fill=\"none\"/>\n",
              "    <path d=\"M18.56 5.44l.94 2.06.94-2.06 2.06-.94-2.06-.94-.94-2.06-.94 2.06-2.06.94zm-11 1L8.5 8.5l.94-2.06 2.06-.94-2.06-.94L8.5 2.5l-.94 2.06-2.06.94zm10 10l.94 2.06.94-2.06 2.06-.94-2.06-.94-.94-2.06-.94 2.06-2.06.94z\"/><path d=\"M17.41 7.96l-1.37-1.37c-.4-.4-.92-.59-1.43-.59-.52 0-1.04.2-1.43.59L10.3 9.45l-7.72 7.72c-.78.78-.78 2.05 0 2.83L4 21.41c.39.39.9.59 1.41.59.51 0 1.02-.2 1.41-.59l7.78-7.78 2.81-2.81c.8-.78.8-2.07 0-2.86zM5.41 20L4 18.59l7.72-7.72 1.47 1.35L5.41 20z\"/>\n",
              "  </svg>\n",
              "      </button>\n",
              "      \n",
              "  <style>\n",
              "    .colab-df-container {\n",
              "      display:flex;\n",
              "      flex-wrap:wrap;\n",
              "      gap: 12px;\n",
              "    }\n",
              "\n",
              "    .colab-df-convert {\n",
              "      background-color: #E8F0FE;\n",
              "      border: none;\n",
              "      border-radius: 50%;\n",
              "      cursor: pointer;\n",
              "      display: none;\n",
              "      fill: #1967D2;\n",
              "      height: 32px;\n",
              "      padding: 0 0 0 0;\n",
              "      width: 32px;\n",
              "    }\n",
              "\n",
              "    .colab-df-convert:hover {\n",
              "      background-color: #E2EBFA;\n",
              "      box-shadow: 0px 1px 2px rgba(60, 64, 67, 0.3), 0px 1px 3px 1px rgba(60, 64, 67, 0.15);\n",
              "      fill: #174EA6;\n",
              "    }\n",
              "\n",
              "    [theme=dark] .colab-df-convert {\n",
              "      background-color: #3B4455;\n",
              "      fill: #D2E3FC;\n",
              "    }\n",
              "\n",
              "    [theme=dark] .colab-df-convert:hover {\n",
              "      background-color: #434B5C;\n",
              "      box-shadow: 0px 1px 3px 1px rgba(0, 0, 0, 0.15);\n",
              "      filter: drop-shadow(0px 1px 2px rgba(0, 0, 0, 0.3));\n",
              "      fill: #FFFFFF;\n",
              "    }\n",
              "  </style>\n",
              "\n",
              "      <script>\n",
              "        const buttonEl =\n",
              "          document.querySelector('#df-cd781460-23fe-4a3c-bbd5-9db43df60a45 button.colab-df-convert');\n",
              "        buttonEl.style.display =\n",
              "          google.colab.kernel.accessAllowed ? 'block' : 'none';\n",
              "\n",
              "        async function convertToInteractive(key) {\n",
              "          const element = document.querySelector('#df-cd781460-23fe-4a3c-bbd5-9db43df60a45');\n",
              "          const dataTable =\n",
              "            await google.colab.kernel.invokeFunction('convertToInteractive',\n",
              "                                                     [key], {});\n",
              "          if (!dataTable) return;\n",
              "\n",
              "          const docLinkHtml = 'Like what you see? Visit the ' +\n",
              "            '<a target=\"_blank\" href=https://colab.research.google.com/notebooks/data_table.ipynb>data table notebook</a>'\n",
              "            + ' to learn more about interactive tables.';\n",
              "          element.innerHTML = '';\n",
              "          dataTable['output_type'] = 'display_data';\n",
              "          await google.colab.output.renderOutput(dataTable, element);\n",
              "          const docLink = document.createElement('div');\n",
              "          docLink.innerHTML = docLinkHtml;\n",
              "          element.appendChild(docLink);\n",
              "        }\n",
              "      </script>\n",
              "    </div>\n",
              "  </div>\n",
              "  "
            ]
          },
          "metadata": {},
          "execution_count": 14
        }
      ],
      "source": [
        "pd.crosstab(cr_loan['person_home_ownership'], cr_loan['loan_status'],\n",
        "              values=cr_loan['loan_percent_income'], aggfunc='mean')"
      ]
    },
    {
      "cell_type": "code",
      "execution_count": 15,
      "metadata": {
        "colab": {
          "base_uri": "https://localhost:8080/",
          "height": 350
        },
        "id": "CRlMpnQ0-W2K",
        "outputId": "0ea0864a-c6e4-4eb0-b7e5-424ceec9fdf3"
      },
      "outputs": [
        {
          "output_type": "stream",
          "name": "stderr",
          "text": [
            "/usr/local/lib/python3.7/dist-packages/matplotlib/cbook/__init__.py:1376: VisibleDeprecationWarning: Creating an ndarray from ragged nested sequences (which is a list-or-tuple of lists-or-tuples-or ndarrays with different lengths or shapes) is deprecated. If you meant to do this, you must specify 'dtype=object' when creating the ndarray.\n",
            "  X = np.atleast_1d(X.T if isinstance(X, np.ndarray) else np.asarray(X))\n"
          ]
        },
        {
          "output_type": "display_data",
          "data": {
            "text/plain": [
              "<Figure size 432x288 with 1 Axes>"
            ],
            "image/png": "[encoded data removed]"
          },
          "metadata": {
            "needs_background": "light"
          }
        }
      ],
      "source": [
        "cr_loan.boxplot(column = ['loan_percent_income'], by = 'loan_status')\n",
        "plt.title('Average Percent Income by Loan Status')\n",
        "plt.suptitle('')\n",
        "plt.show()"
      ]
    },
    {
      "cell_type": "markdown",
      "metadata": {
        "id": "FGn9SLGs-W2L"
      },
      "source": [
        "### Outlier Detection"
      ]
    },
    {
      "cell_type": "code",
      "execution_count": 16,
      "metadata": {
        "colab": {
          "base_uri": "https://localhost:8080/",
          "height": 143
        },
        "id": "5NYbBaOg-W2N",
        "outputId": "e6c096f8-4f78-446c-9e6d-8425013e97ee"
      },
      "outputs": [
        {
          "output_type": "execute_result",
          "data": {
            "text/plain": [
              "person_home_ownership  MORTGAGE  OTHER   OWN   RENT\n",
              "loan_status                                        \n",
              "0                         123.0   24.0  31.0   41.0\n",
              "1                          34.0   11.0  17.0  123.0"
            ],
            "text/html": [
              "\n",
              "  <div id=\"df-02e144fc-b198-4d50-b91b-5f5f50102b15\">\n",
              "    <div class=\"colab-df-container\">\n",
              "      <div>\n",
              "<style scoped>\n",
              "    .dataframe tbody tr th:only-of-type {\n",
              "        vertical-align: middle;\n",
              "    }\n",
              "\n",
              "    .dataframe tbody tr th {\n",
              "        vertical-align: top;\n",
              "    }\n",
              "\n",
              "    .dataframe thead th {\n",
              "        text-align: right;\n",
              "    }\n",
              "</style>\n",
              "<table border=\"1\" class=\"dataframe\">\n",
              "  <thead>\n",
              "    <tr style=\"text-align: right;\">\n",
              "      <th>person_home_ownership</th>\n",
              "      <th>MORTGAGE</th>\n",
              "      <th>OTHER</th>\n",
              "      <th>OWN</th>\n",
              "      <th>RENT</th>\n",
              "    </tr>\n",
              "    <tr>\n",
              "      <th>loan_status</th>\n",
              "      <th></th>\n",
              "      <th></th>\n",
              "      <th></th>\n",
              "      <th></th>\n",
              "    </tr>\n",
              "  </thead>\n",
              "  <tbody>\n",
              "    <tr>\n",
              "      <th>0</th>\n",
              "      <td>123.0</td>\n",
              "      <td>24.0</td>\n",
              "      <td>31.0</td>\n",
              "      <td>41.0</td>\n",
              "    </tr>\n",
              "    <tr>\n",
              "      <th>1</th>\n",
              "      <td>34.0</td>\n",
              "      <td>11.0</td>\n",
              "      <td>17.0</td>\n",
              "      <td>123.0</td>\n",
              "    </tr>\n",
              "  </tbody>\n",
              "</table>\n",
              "</div>\n",
              "      <button class=\"colab-df-convert\" onclick=\"convertToInteractive('df-02e144fc-b198-4d50-b91b-5f5f50102b15')\"\n",
              "              title=\"Convert this dataframe to an interactive table.\"\n",
              "              style=\"display:none;\">\n",
              "        \n",
              "  <svg xmlns=\"http://www.w3.org/2000/svg\" height=\"24px\"viewBox=\"0 0 24 24\"\n",
              "       width=\"24px\">\n",
              "    <path d=\"M0 0h24v24H0V0z\" fill=\"none\"/>\n",
              "    <path d=\"M18.56 5.44l.94 2.06.94-2.06 2.06-.94-2.06-.94-.94-2.06-.94 2.06-2.06.94zm-11 1L8.5 8.5l.94-2.06 2.06-.94-2.06-.94L8.5 2.5l-.94 2.06-2.06.94zm10 10l.94 2.06.94-2.06 2.06-.94-2.06-.94-.94-2.06-.94 2.06-2.06.94z\"/><path d=\"M17.41 7.96l-1.37-1.37c-.4-.4-.92-.59-1.43-.59-.52 0-1.04.2-1.43.59L10.3 9.45l-7.72 7.72c-.78.78-.78 2.05 0 2.83L4 21.41c.39.39.9.59 1.41.59.51 0 1.02-.2 1.41-.59l7.78-7.78 2.81-2.81c.8-.78.8-2.07 0-2.86zM5.41 20L4 18.59l7.72-7.72 1.47 1.35L5.41 20z\"/>\n",
              "  </svg>\n",
              "      </button>\n",
              "      \n",
              "  <style>\n",
              "    .colab-df-container {\n",
              "      display:flex;\n",
              "      flex-wrap:wrap;\n",
              "      gap: 12px;\n",
              "    }\n",
              "\n",
              "    .colab-df-convert {\n",
              "      background-color: #E8F0FE;\n",
              "      border: none;\n",
              "      border-radius: 50%;\n",
              "      cursor: pointer;\n",
              "      display: none;\n",
              "      fill: #1967D2;\n",
              "      height: 32px;\n",
              "      padding: 0 0 0 0;\n",
              "      width: 32px;\n",
              "    }\n",
              "\n",
              "    .colab-df-convert:hover {\n",
              "      background-color: #E2EBFA;\n",
              "      box-shadow: 0px 1px 2px rgba(60, 64, 67, 0.3), 0px 1px 3px 1px rgba(60, 64, 67, 0.15);\n",
              "      fill: #174EA6;\n",
              "    }\n",
              "\n",
              "    [theme=dark] .colab-df-convert {\n",
              "      background-color: #3B4455;\n",
              "      fill: #D2E3FC;\n",
              "    }\n",
              "\n",
              "    [theme=dark] .colab-df-convert:hover {\n",
              "      background-color: #434B5C;\n",
              "      box-shadow: 0px 1px 3px 1px rgba(0, 0, 0, 0.15);\n",
              "      filter: drop-shadow(0px 1px 2px rgba(0, 0, 0, 0.3));\n",
              "      fill: #FFFFFF;\n",
              "    }\n",
              "  </style>\n",
              "\n",
              "      <script>\n",
              "        const buttonEl =\n",
              "          document.querySelector('#df-02e144fc-b198-4d50-b91b-5f5f50102b15 button.colab-df-convert');\n",
              "        buttonEl.style.display =\n",
              "          google.colab.kernel.accessAllowed ? 'block' : 'none';\n",
              "\n",
              "        async function convertToInteractive(key) {\n",
              "          const element = document.querySelector('#df-02e144fc-b198-4d50-b91b-5f5f50102b15');\n",
              "          const dataTable =\n",
              "            await google.colab.kernel.invokeFunction('convertToInteractive',\n",
              "                                                     [key], {});\n",
              "          if (!dataTable) return;\n",
              "\n",
              "          const docLinkHtml = 'Like what you see? Visit the ' +\n",
              "            '<a target=\"_blank\" href=https://colab.research.google.com/notebooks/data_table.ipynb>data table notebook</a>'\n",
              "            + ' to learn more about interactive tables.';\n",
              "          element.innerHTML = '';\n",
              "          dataTable['output_type'] = 'display_data';\n",
              "          await google.colab.output.renderOutput(dataTable, element);\n",
              "          const docLink = document.createElement('div');\n",
              "          docLink.innerHTML = docLinkHtml;\n",
              "          element.appendChild(docLink);\n",
              "        }\n",
              "      </script>\n",
              "    </div>\n",
              "  </div>\n",
              "  "
            ]
          },
          "metadata": {},
          "execution_count": 16
        }
      ],
      "source": [
        "pd.crosstab(cr_loan['loan_status'],cr_loan['person_home_ownership'],\n",
        "        values=cr_loan['person_emp_length'], aggfunc='max')"
      ]
    },
    {
      "cell_type": "code",
      "execution_count": 17,
      "metadata": {
        "colab": {
          "base_uri": "https://localhost:8080/",
          "height": 279
        },
        "id": "4sttT6Oo-W2N",
        "outputId": "1727a84b-b731-4128-ead2-08add930952d"
      },
      "outputs": [
        {
          "output_type": "display_data",
          "data": {
            "text/plain": [
              "<Figure size 432x288 with 1 Axes>"
            ],
            "image/png": "[encoded data removed]"
          },
          "metadata": {
            "needs_background": "light"
          }
        }
      ],
      "source": [
        "# Create the scatter plot for age and amount\n",
        "plt.scatter(cr_loan['person_emp_length'], cr_loan['loan_status'], c='blue', alpha=0.5)\n",
        "plt.xlabel(\"Employment Length\")\n",
        "plt.ylabel(\"Loan Status\")\n",
        "plt.show()"
      ]
    },
    {
      "cell_type": "code",
      "execution_count": 18,
      "metadata": {
        "colab": {
          "base_uri": "https://localhost:8080/",
          "height": 175
        },
        "id": "SWDhqXst-W2O",
        "outputId": "6c6c85f5-78f1-436b-9fbc-9ed6a7b061c0"
      },
      "outputs": [
        {
          "output_type": "execute_result",
          "data": {
            "text/plain": [
              "                           min                      max                  \n",
              "person_home_ownership MORTGAGE OTHER  OWN RENT MORTGAGE OTHER   OWN  RENT\n",
              "loan_status                                                              \n",
              "0                          0.0   0.0  0.0  0.0     38.0  24.0  31.0  41.0\n",
              "1                          0.0   0.0  0.0  0.0     34.0  11.0  17.0  27.0"
            ],
            "text/html": [
              "\n",
              "  <div id=\"df-802ed875-b9c9-4348-9839-0d2725c293e3\">\n",
              "    <div class=\"colab-df-container\">\n",
              "      <div>\n",
              "<style scoped>\n",
              "    .dataframe tbody tr th:only-of-type {\n",
              "        vertical-align: middle;\n",
              "    }\n",
              "\n",
              "    .dataframe tbody tr th {\n",
              "        vertical-align: top;\n",
              "    }\n",
              "\n",
              "    .dataframe thead tr th {\n",
              "        text-align: left;\n",
              "    }\n",
              "\n",
              "    .dataframe thead tr:last-of-type th {\n",
              "        text-align: right;\n",
              "    }\n",
              "</style>\n",
              "<table border=\"1\" class=\"dataframe\">\n",
              "  <thead>\n",
              "    <tr>\n",
              "      <th></th>\n",
              "      <th colspan=\"4\" halign=\"left\">min</th>\n",
              "      <th colspan=\"4\" halign=\"left\">max</th>\n",
              "    </tr>\n",
              "    <tr>\n",
              "      <th>person_home_ownership</th>\n",
              "      <th>MORTGAGE</th>\n",
              "      <th>OTHER</th>\n",
              "      <th>OWN</th>\n",
              "      <th>RENT</th>\n",
              "      <th>MORTGAGE</th>\n",
              "      <th>OTHER</th>\n",
              "      <th>OWN</th>\n",
              "      <th>RENT</th>\n",
              "    </tr>\n",
              "    <tr>\n",
              "      <th>loan_status</th>\n",
              "      <th></th>\n",
              "      <th></th>\n",
              "      <th></th>\n",
              "      <th></th>\n",
              "      <th></th>\n",
              "      <th></th>\n",
              "      <th></th>\n",
              "      <th></th>\n",
              "    </tr>\n",
              "  </thead>\n",
              "  <tbody>\n",
              "    <tr>\n",
              "      <th>0</th>\n",
              "      <td>0.0</td>\n",
              "      <td>0.0</td>\n",
              "      <td>0.0</td>\n",
              "      <td>0.0</td>\n",
              "      <td>38.0</td>\n",
              "      <td>24.0</td>\n",
              "      <td>31.0</td>\n",
              "      <td>41.0</td>\n",
              "    </tr>\n",
              "    <tr>\n",
              "      <th>1</th>\n",
              "      <td>0.0</td>\n",
              "      <td>0.0</td>\n",
              "      <td>0.0</td>\n",
              "      <td>0.0</td>\n",
              "      <td>34.0</td>\n",
              "      <td>11.0</td>\n",
              "      <td>17.0</td>\n",
              "      <td>27.0</td>\n",
              "    </tr>\n",
              "  </tbody>\n",
              "</table>\n",
              "</div>\n",
              "      <button class=\"colab-df-convert\" onclick=\"convertToInteractive('df-802ed875-b9c9-4348-9839-0d2725c293e3')\"\n",
              "              title=\"Convert this dataframe to an interactive table.\"\n",
              "              style=\"display:none;\">\n",
              "        \n",
              "  <svg xmlns=\"http://www.w3.org/2000/svg\" height=\"24px\"viewBox=\"0 0 24 24\"\n",
              "       width=\"24px\">\n",
              "    <path d=\"M0 0h24v24H0V0z\" fill=\"none\"/>\n",
              "    <path d=\"M18.56 5.44l.94 2.06.94-2.06 2.06-.94-2.06-.94-.94-2.06-.94 2.06-2.06.94zm-11 1L8.5 8.5l.94-2.06 2.06-.94-2.06-.94L8.5 2.5l-.94 2.06-2.06.94zm10 10l.94 2.06.94-2.06 2.06-.94-2.06-.94-.94-2.06-.94 2.06-2.06.94z\"/><path d=\"M17.41 7.96l-1.37-1.37c-.4-.4-.92-.59-1.43-.59-.52 0-1.04.2-1.43.59L10.3 9.45l-7.72 7.72c-.78.78-.78 2.05 0 2.83L4 21.41c.39.39.9.59 1.41.59.51 0 1.02-.2 1.41-.59l7.78-7.78 2.81-2.81c.8-.78.8-2.07 0-2.86zM5.41 20L4 18.59l7.72-7.72 1.47 1.35L5.41 20z\"/>\n",
              "  </svg>\n",
              "      </button>\n",
              "      \n",
              "  <style>\n",
              "    .colab-df-container {\n",
              "      display:flex;\n",
              "      flex-wrap:wrap;\n",
              "      gap: 12px;\n",
              "    }\n",
              "\n",
              "    .colab-df-convert {\n",
              "      background-color: #E8F0FE;\n",
              "      border: none;\n",
              "      border-radius: 50%;\n",
              "      cursor: pointer;\n",
              "      display: none;\n",
              "      fill: #1967D2;\n",
              "      height: 32px;\n",
              "      padding: 0 0 0 0;\n",
              "      width: 32px;\n",
              "    }\n",
              "\n",
              "    .colab-df-convert:hover {\n",
              "      background-color: #E2EBFA;\n",
              "      box-shadow: 0px 1px 2px rgba(60, 64, 67, 0.3), 0px 1px 3px 1px rgba(60, 64, 67, 0.15);\n",
              "      fill: #174EA6;\n",
              "    }\n",
              "\n",
              "    [theme=dark] .colab-df-convert {\n",
              "      background-color: #3B4455;\n",
              "      fill: #D2E3FC;\n",
              "    }\n",
              "\n",
              "    [theme=dark] .colab-df-convert:hover {\n",
              "      background-color: #434B5C;\n",
              "      box-shadow: 0px 1px 3px 1px rgba(0, 0, 0, 0.15);\n",
              "      filter: drop-shadow(0px 1px 2px rgba(0, 0, 0, 0.3));\n",
              "      fill: #FFFFFF;\n",
              "    }\n",
              "  </style>\n",
              "\n",
              "      <script>\n",
              "        const buttonEl =\n",
              "          document.querySelector('#df-802ed875-b9c9-4348-9839-0d2725c293e3 button.colab-df-convert');\n",
              "        buttonEl.style.display =\n",
              "          google.colab.kernel.accessAllowed ? 'block' : 'none';\n",
              "\n",
              "        async function convertToInteractive(key) {\n",
              "          const element = document.querySelector('#df-802ed875-b9c9-4348-9839-0d2725c293e3');\n",
              "          const dataTable =\n",
              "            await google.colab.kernel.invokeFunction('convertToInteractive',\n",
              "                                                     [key], {});\n",
              "          if (!dataTable) return;\n",
              "\n",
              "          const docLinkHtml = 'Like what you see? Visit the ' +\n",
              "            '<a target=\"_blank\" href=https://colab.research.google.com/notebooks/data_table.ipynb>data table notebook</a>'\n",
              "            + ' to learn more about interactive tables.';\n",
              "          element.innerHTML = '';\n",
              "          dataTable['output_type'] = 'display_data';\n",
              "          await google.colab.output.renderOutput(dataTable, element);\n",
              "          const docLink = document.createElement('div');\n",
              "          docLink.innerHTML = docLinkHtml;\n",
              "          element.appendChild(docLink);\n",
              "        }\n",
              "      </script>\n",
              "    </div>\n",
              "  </div>\n",
              "  "
            ]
          },
          "metadata": {},
          "execution_count": 18
        }
      ],
      "source": [
        "# Create an array of indices where employment length is greater than 60\n",
        "indices = cr_loan[cr_loan['person_emp_length'] > 60].index\n",
        "\n",
        "# Dropping the records from the data based on the indices and create a new dataframe\n",
        "cr_loan_new = cr_loan.drop(indices)\n",
        "\n",
        "# Create the cross table from earlier and include minimum employment length\n",
        "pd.crosstab(cr_loan_new['loan_status'],cr_loan_new['person_home_ownership'],\n",
        "            values=cr_loan_new['person_emp_length'], aggfunc=['min','max'])"
      ]
    },
    {
      "cell_type": "code",
      "execution_count": 19,
      "metadata": {
        "colab": {
          "base_uri": "https://localhost:8080/",
          "height": 279
        },
        "id": "CnTG9iTE-W2P",
        "outputId": "6bd63e27-1cd0-47d2-bc05-d40eaa9eaf60"
      },
      "outputs": [
        {
          "output_type": "display_data",
          "data": {
            "text/plain": [
              "<Figure size 432x288 with 1 Axes>"
            ],
            "image/png": "[encoded data removed]"
          },
          "metadata": {
            "needs_background": "light"
          }
        }
      ],
      "source": [
        "# Create the scatter plot for age and amount\n",
        "plt.scatter(cr_loan_new['person_age'], cr_loan_new['loan_amnt'], c='blue', alpha=0.4)\n",
        "plt.xlabel(\"Person Age\")\n",
        "plt.ylabel(\"Loan Amount\")\n",
        "plt.show()"
      ]
    },
    {
      "cell_type": "code",
      "execution_count": 20,
      "metadata": {
        "id": "t6XcLHBq-W2P"
      },
      "outputs": [],
      "source": [
        "cr_loan_new = cr_loan_new.drop(cr_loan_new[cr_loan_new['person_age'] > 100].index)"
      ]
    },
    {
      "cell_type": "code",
      "execution_count": 21,
      "metadata": {
        "id": "Ma13-6Em-W2P"
      },
      "outputs": [],
      "source": [
        "import matplotlib"
      ]
    },
    {
      "cell_type": "code",
      "execution_count": 22,
      "metadata": {
        "colab": {
          "base_uri": "https://localhost:8080/",
          "height": 279
        },
        "id": "FhcZISK_-W2P",
        "outputId": "ad112dad-91f1-46b5-c50e-fe3caa1ccc67"
      },
      "outputs": [
        {
          "output_type": "display_data",
          "data": {
            "text/plain": [
              "<Figure size 432x288 with 1 Axes>"
            ],
            "image/png": "[encoded data removed]"
          },
          "metadata": {
            "needs_background": "light"
          }
        }
      ],
      "source": [
        "# Create a scatter plot of age and interest rate\n",
        "fig, ax = plt.subplots()\n",
        "\n",
        "colors = [\"blue\",\"red\"]\n",
        "\n",
        "ax.scatter(cr_loan_new['person_age'], cr_loan_new['loan_int_rate'],\n",
        "            c = cr_loan_new['loan_status'], marker = 'o', s = 5,\n",
        "            cmap = matplotlib.colors.ListedColormap(colors),\n",
        "            alpha=0.5)\n",
        "\n",
        "ax.set_xlabel(\"Person Age\")\n",
        "ax.set_ylabel(\"Loan Interest Rate\")\n",
        "\n",
        "plt.show()"
      ]
    },
    {
      "cell_type": "markdown",
      "metadata": {
        "id": "luRFxSoZ-W2Q"
      },
      "source": [
        "### Imputing Missing Data"
      ]
    },
    {
      "cell_type": "code",
      "execution_count": 23,
      "metadata": {
        "colab": {
          "base_uri": "https://localhost:8080/"
        },
        "id": "wsv8JFBu-W2Q",
        "outputId": "0fbaef46-0070-437a-969b-e91f7fafeb36"
      },
      "outputs": [
        {
          "output_type": "stream",
          "name": "stdout",
          "text": [
            "<class 'pandas.core.frame.DataFrame'>\n",
            "Int64Index: 32574 entries, 1 to 32580\n",
            "Data columns (total 12 columns):\n",
            " #   Column                      Non-Null Count  Dtype  \n",
            "---  ------                      --------------  -----  \n",
            " 0   person_age                  32574 non-null  int64  \n",
            " 1   person_income               32574 non-null  int64  \n",
            " 2   person_home_ownership       32574 non-null  object \n",
            " 3   person_emp_length           31679 non-null  float64\n",
            " 4   loan_intent                 32574 non-null  object \n",
            " 5   loan_grade                  32574 non-null  object \n",
            " 6   loan_amnt                   32574 non-null  int64  \n",
            " 7   loan_int_rate               29459 non-null  float64\n",
            " 8   loan_status                 32574 non-null  int64  \n",
            " 9   loan_percent_income         32574 non-null  float64\n",
            " 10  cb_person_default_on_file   32574 non-null  object \n",
            " 11  cb_person_cred_hist_length  32574 non-null  int64  \n",
            "dtypes: float64(3), int64(5), object(4)\n",
            "memory usage: 3.2+ MB\n"
          ]
        }
      ],
      "source": [
        "cr_loan_new.info()"
      ]
    },
    {
      "cell_type": "code",
      "execution_count": 24,
      "metadata": {
        "colab": {
          "base_uri": "https://localhost:8080/"
        },
        "id": "xndOs1vq-W2Q",
        "outputId": "d9ea8a46-0090-4cd5-f5c0-3088687afad1"
      },
      "outputs": [
        {
          "output_type": "stream",
          "name": "stdout",
          "text": [
            "Index(['person_emp_length', 'loan_int_rate'], dtype='object')\n"
          ]
        }
      ],
      "source": [
        "print(cr_loan_new.columns[cr_loan_new.isnull().any()])"
      ]
    },
    {
      "cell_type": "code",
      "execution_count": 25,
      "metadata": {
        "colab": {
          "base_uri": "https://localhost:8080/",
          "height": 270
        },
        "id": "G-p5ZEc5-W2Q",
        "outputId": "c57dc66c-e4c8-4e74-e7f4-eb13c4bbe70d"
      },
      "outputs": [
        {
          "output_type": "execute_result",
          "data": {
            "text/plain": [
              "     person_age  person_income person_home_ownership  person_emp_length  \\\n",
              "105          22          12600              MORTGAGE                NaN   \n",
              "222          24         185000              MORTGAGE                NaN   \n",
              "379          24          16800              MORTGAGE                NaN   \n",
              "407          25          52000                  RENT                NaN   \n",
              "408          22          17352              MORTGAGE                NaN   \n",
              "\n",
              "           loan_intent loan_grade  loan_amnt  loan_int_rate  loan_status  \\\n",
              "105           PERSONAL          A       2000           5.42            1   \n",
              "222          EDUCATION          B      35000          12.42            0   \n",
              "379  DEBTCONSOLIDATION          A       3900            NaN            1   \n",
              "407           PERSONAL          B      24000          10.74            1   \n",
              "408          EDUCATION          C       2250          15.27            0   \n",
              "\n",
              "     loan_percent_income cb_person_default_on_file  cb_person_cred_hist_length  \n",
              "105                 0.16                         N                           4  \n",
              "222                 0.19                         N                           2  \n",
              "379                 0.23                         N                           3  \n",
              "407                 0.46                         N                           2  \n",
              "408                 0.13                         Y                           3  "
            ],
            "text/html": [
              "\n",
              "  <div id=\"df-1e1ec052-9444-4df2-96e8-4c8d0e71a4f7\">\n",
              "    <div class=\"colab-df-container\">\n",
              "      <div>\n",
              "<style scoped>\n",
              "    .dataframe tbody tr th:only-of-type {\n",
              "        vertical-align: middle;\n",
              "    }\n",
              "\n",
              "    .dataframe tbody tr th {\n",
              "        vertical-align: top;\n",
              "    }\n",
              "\n",
              "    .dataframe thead th {\n",
              "        text-align: right;\n",
              "    }\n",
              "</style>\n",
              "<table border=\"1\" class=\"dataframe\">\n",
              "  <thead>\n",
              "    <tr style=\"text-align: right;\">\n",
              "      <th></th>\n",
              "      <th>person_age</th>\n",
              "      <th>person_income</th>\n",
              "      <th>person_home_ownership</th>\n",
              "      <th>person_emp_length</th>\n",
              "      <th>loan_intent</th>\n",
              "      <th>loan_grade</th>\n",
              "      <th>loan_amnt</th>\n",
              "      <th>loan_int_rate</th>\n",
              "      <th>loan_status</th>\n",
              "      <th>loan_percent_income</th>\n",
              "      <th>cb_person_default_on_file</th>\n",
              "      <th>cb_person_cred_hist_length</th>\n",
              "    </tr>\n",
              "  </thead>\n",
              "  <tbody>\n",
              "    <tr>\n",
              "      <th>105</th>\n",
              "      <td>22</td>\n",
              "      <td>12600</td>\n",
              "      <td>MORTGAGE</td>\n",
              "      <td>NaN</td>\n",
              "      <td>PERSONAL</td>\n",
              "      <td>A</td>\n",
              "      <td>2000</td>\n",
              "      <td>5.42</td>\n",
              "      <td>1</td>\n",
              "      <td>0.16</td>\n",
              "      <td>N</td>\n",
              "      <td>4</td>\n",
              "    </tr>\n",
              "    <tr>\n",
              "      <th>222</th>\n",
              "      <td>24</td>\n",
              "      <td>185000</td>\n",
              "      <td>MORTGAGE</td>\n",
              "      <td>NaN</td>\n",
              "      <td>EDUCATION</td>\n",
              "      <td>B</td>\n",
              "      <td>35000</td>\n",
              "      <td>12.42</td>\n",
              "      <td>0</td>\n",
              "      <td>0.19</td>\n",
              "      <td>N</td>\n",
              "      <td>2</td>\n",
              "    </tr>\n",
              "    <tr>\n",
              "      <th>379</th>\n",
              "      <td>24</td>\n",
              "      <td>16800</td>\n",
              "      <td>MORTGAGE</td>\n",
              "      <td>NaN</td>\n",
              "      <td>DEBTCONSOLIDATION</td>\n",
              "      <td>A</td>\n",
              "      <td>3900</td>\n",
              "      <td>NaN</td>\n",
              "      <td>1</td>\n",
              "      <td>0.23</td>\n",
              "      <td>N</td>\n",
              "      <td>3</td>\n",
              "    </tr>\n",
              "    <tr>\n",
              "      <th>407</th>\n",
              "      <td>25</td>\n",
              "      <td>52000</td>\n",
              "      <td>RENT</td>\n",
              "      <td>NaN</td>\n",
              "      <td>PERSONAL</td>\n",
              "      <td>B</td>\n",
              "      <td>24000</td>\n",
              "      <td>10.74</td>\n",
              "      <td>1</td>\n",
              "      <td>0.46</td>\n",
              "      <td>N</td>\n",
              "      <td>2</td>\n",
              "    </tr>\n",
              "    <tr>\n",
              "      <th>408</th>\n",
              "      <td>22</td>\n",
              "      <td>17352</td>\n",
              "      <td>MORTGAGE</td>\n",
              "      <td>NaN</td>\n",
              "      <td>EDUCATION</td>\n",
              "      <td>C</td>\n",
              "      <td>2250</td>\n",
              "      <td>15.27</td>\n",
              "      <td>0</td>\n",
              "      <td>0.13</td>\n",
              "      <td>Y</td>\n",
              "      <td>3</td>\n",
              "    </tr>\n",
              "  </tbody>\n",
              "</table>\n",
              "</div>\n",
              "      <button class=\"colab-df-convert\" onclick=\"convertToInteractive('df-1e1ec052-9444-4df2-96e8-4c8d0e71a4f7')\"\n",
              "              title=\"Convert this dataframe to an interactive table.\"\n",
              "              style=\"display:none;\">\n",
              "        \n",
              "  <svg xmlns=\"http://www.w3.org/2000/svg\" height=\"24px\"viewBox=\"0 0 24 24\"\n",
              "       width=\"24px\">\n",
              "    <path d=\"M0 0h24v24H0V0z\" fill=\"none\"/>\n",
              "    <path d=\"M18.56 5.44l.94 2.06.94-2.06 2.06-.94-2.06-.94-.94-2.06-.94 2.06-2.06.94zm-11 1L8.5 8.5l.94-2.06 2.06-.94-2.06-.94L8.5 2.5l-.94 2.06-2.06.94zm10 10l.94 2.06.94-2.06 2.06-.94-2.06-.94-.94-2.06-.94 2.06-2.06.94z\"/><path d=\"M17.41 7.96l-1.37-1.37c-.4-.4-.92-.59-1.43-.59-.52 0-1.04.2-1.43.59L10.3 9.45l-7.72 7.72c-.78.78-.78 2.05 0 2.83L4 21.41c.39.39.9.59 1.41.59.51 0 1.02-.2 1.41-.59l7.78-7.78 2.81-2.81c.8-.78.8-2.07 0-2.86zM5.41 20L4 18.59l7.72-7.72 1.47 1.35L5.41 20z\"/>\n",
              "  </svg>\n",
              "      </button>\n",
              "      \n",
              "  <style>\n",
              "    .colab-df-container {\n",
              "      display:flex;\n",
              "      flex-wrap:wrap;\n",
              "      gap: 12px;\n",
              "    }\n",
              "\n",
              "    .colab-df-convert {\n",
              "      background-color: #E8F0FE;\n",
              "      border: none;\n",
              "      border-radius: 50%;\n",
              "      cursor: pointer;\n",
              "      display: none;\n",
              "      fill: #1967D2;\n",
              "      height: 32px;\n",
              "      padding: 0 0 0 0;\n",
              "      width: 32px;\n",
              "    }\n",
              "\n",
              "    .colab-df-convert:hover {\n",
              "      background-color: #E2EBFA;\n",
              "      box-shadow: 0px 1px 2px rgba(60, 64, 67, 0.3), 0px 1px 3px 1px rgba(60, 64, 67, 0.15);\n",
              "      fill: #174EA6;\n",
              "    }\n",
              "\n",
              "    [theme=dark] .colab-df-convert {\n",
              "      background-color: #3B4455;\n",
              "      fill: #D2E3FC;\n",
              "    }\n",
              "\n",
              "    [theme=dark] .colab-df-convert:hover {\n",
              "      background-color: #434B5C;\n",
              "      box-shadow: 0px 1px 3px 1px rgba(0, 0, 0, 0.15);\n",
              "      filter: drop-shadow(0px 1px 2px rgba(0, 0, 0, 0.3));\n",
              "      fill: #FFFFFF;\n",
              "    }\n",
              "  </style>\n",
              "\n",
              "      <script>\n",
              "        const buttonEl =\n",
              "          document.querySelector('#df-1e1ec052-9444-4df2-96e8-4c8d0e71a4f7 button.colab-df-convert');\n",
              "        buttonEl.style.display =\n",
              "          google.colab.kernel.accessAllowed ? 'block' : 'none';\n",
              "\n",
              "        async function convertToInteractive(key) {\n",
              "          const element = document.querySelector('#df-1e1ec052-9444-4df2-96e8-4c8d0e71a4f7');\n",
              "          const dataTable =\n",
              "            await google.colab.kernel.invokeFunction('convertToInteractive',\n",
              "                                                     [key], {});\n",
              "          if (!dataTable) return;\n",
              "\n",
              "          const docLinkHtml = 'Like what you see? Visit the ' +\n",
              "            '<a target=\"_blank\" href=https://colab.research.google.com/notebooks/data_table.ipynb>data table notebook</a>'\n",
              "            + ' to learn more about interactive tables.';\n",
              "          element.innerHTML = '';\n",
              "          dataTable['output_type'] = 'display_data';\n",
              "          await google.colab.output.renderOutput(dataTable, element);\n",
              "          const docLink = document.createElement('div');\n",
              "          docLink.innerHTML = docLinkHtml;\n",
              "          element.appendChild(docLink);\n",
              "        }\n",
              "      </script>\n",
              "    </div>\n",
              "  </div>\n",
              "  "
            ]
          },
          "metadata": {},
          "execution_count": 25
        }
      ],
      "source": [
        "cr_loan_new[cr_loan_new['person_emp_length'].isnull()].head()"
      ]
    },
    {
      "cell_type": "code",
      "execution_count": 26,
      "metadata": {
        "id": "fV31KGeP-W2R"
      },
      "outputs": [],
      "source": [
        "cr_loan_new['person_emp_length'].fillna((cr_loan_new['person_emp_length'].median()), inplace=True)"
      ]
    },
    {
      "cell_type": "code",
      "execution_count": 27,
      "metadata": {
        "colab": {
          "base_uri": "https://localhost:8080/",
          "height": 279
        },
        "id": "9_h7wgkN-W2R",
        "outputId": "c154a1b2-3ff3-4fec-b751-547dc5795493"
      },
      "outputs": [
        {
          "output_type": "display_data",
          "data": {
            "text/plain": [
              "<Figure size 432x288 with 1 Axes>"
            ],
            "image/png": "[encoded data removed]"
          },
          "metadata": {
            "needs_background": "light"
          }
        }
      ],
      "source": [
        "n, bins, patches = plt.hist(cr_loan_new['person_emp_length'], bins='auto', color='blue')\n",
        "plt.xlabel(\"Person Employment Length\")\n",
        "plt.show()"
      ]
    },
    {
      "cell_type": "code",
      "execution_count": 28,
      "metadata": {
        "colab": {
          "base_uri": "https://localhost:8080/"
        },
        "id": "Ju-J199_-W2R",
        "outputId": "b908dc8f-ee5e-4f19-dfc7-b24df384a81c"
      },
      "outputs": [
        {
          "output_type": "stream",
          "name": "stdout",
          "text": [
            "3115\n"
          ]
        }
      ],
      "source": [
        "print(cr_loan_new['loan_int_rate'].isnull().sum())"
      ]
    },
    {
      "cell_type": "code",
      "execution_count": 29,
      "metadata": {
        "id": "n33f9kfx-W2S"
      },
      "outputs": [],
      "source": [
        "indices = cr_loan_new[cr_loan_new['loan_int_rate'].isnull()].index\n",
        "cr_loan_clean = cr_loan_new.drop(indices)"
      ]
    },
    {
      "cell_type": "code",
      "execution_count": 30,
      "metadata": {
        "colab": {
          "base_uri": "https://localhost:8080/"
        },
        "id": "3_Fqrwxb-W2S",
        "outputId": "79163081-f0c0-4351-efca-8a8a4e108692"
      },
      "outputs": [
        {
          "output_type": "execute_result",
          "data": {
            "text/plain": [
              "RENT        14890\n",
              "MORTGAGE    12119\n",
              "OWN          2356\n",
              "OTHER          94\n",
              "Name: person_home_ownership, dtype: int64"
            ]
          },
          "metadata": {},
          "execution_count": 30
        }
      ],
      "source": [
        "cr_loan_clean['person_home_ownership'].value_counts()"
      ]
    },
    {
      "cell_type": "markdown",
      "metadata": {
        "id": "OhpaXUvH-W2S"
      },
      "source": [
        "# Logistic Regression for Probability of Default"
      ]
    },
    {
      "cell_type": "code",
      "execution_count": 31,
      "metadata": {
        "colab": {
          "base_uri": "https://localhost:8080/"
        },
        "id": "Ij5sm4NO-W2T",
        "outputId": "f0fa4fd7-b939-43a6-aef8-d7cbd76d234b"
      },
      "outputs": [
        {
          "output_type": "stream",
          "name": "stdout",
          "text": [
            "{'C': 1.0, 'class_weight': None, 'dual': False, 'fit_intercept': True, 'intercept_scaling': 1, 'l1_ratio': None, 'max_iter': 100, 'multi_class': 'auto', 'n_jobs': None, 'penalty': 'l2', 'random_state': None, 'solver': 'lbfgs', 'tol': 0.0001, 'verbose': 0, 'warm_start': False}\n",
            "[-4.45785901]\n"
          ]
        }
      ],
      "source": [
        "from sklearn.linear_model import LogisticRegression\n",
        "\n",
        "# Create the X and y data sets\n",
        "X = cr_loan_clean[['loan_int_rate']]\n",
        "y = cr_loan_clean[['loan_status']]\n",
        "\n",
        "# Create and fit a logistic regression model\n",
        "clf_logistic_single = LogisticRegression()\n",
        "clf_logistic_single.fit(X, np.ravel(y))\n",
        "\n",
        "# Print the parameters of the model\n",
        "print(clf_logistic_single.get_params())\n",
        "\n",
        "# Print the intercept of the model\n",
        "print(clf_logistic_single.intercept_)"
      ]
    },
    {
      "cell_type": "code",
      "execution_count": 32,
      "metadata": {
        "colab": {
          "base_uri": "https://localhost:8080/"
        },
        "id": "ONoszq5u-W2T",
        "outputId": "212c1668-d8ca-48c7-e106-7188e878efd8"
      },
      "outputs": [
        {
          "output_type": "stream",
          "name": "stdout",
          "text": [
            "[-4.21645549]\n"
          ]
        }
      ],
      "source": [
        "# Create X data for the model\n",
        "X_multi = cr_loan_clean[['loan_int_rate','person_emp_length']]\n",
        "\n",
        "# Create a set of y data for training\n",
        "y = cr_loan_clean[['loan_status']]\n",
        "\n",
        "# Create and train a new logistic regression\n",
        "clf_logistic_multi = LogisticRegression(solver='lbfgs').fit(X_multi, np.ravel(y))\n",
        "\n",
        "# Print the intercept of the model\n",
        "print(clf_logistic_multi.intercept_)\n",
        "\n",
        "# the intercept is actually the log odds of non-default."
      ]
    },
    {
      "cell_type": "code",
      "execution_count": 33,
      "metadata": {
        "colab": {
          "base_uri": "https://localhost:8080/"
        },
        "id": "iZBN9DLh-W2U",
        "outputId": "5019894c-3512-4a85-b46f-fcd88b6a38fe"
      },
      "outputs": [
        {
          "output_type": "stream",
          "name": "stdout",
          "text": [
            "[[ 1.28517496e-09 -2.27622202e-09 -2.17211991e-05]]\n"
          ]
        }
      ],
      "source": [
        "from sklearn.model_selection import train_test_split\n",
        "\n",
        "# Create the X and y data sets\n",
        "X = cr_loan_clean[['loan_int_rate','person_emp_length','person_income']]\n",
        "y = cr_loan_clean[['loan_status']]\n",
        "\n",
        "# Use test_train_split to create the training and test sets\n",
        "X_train, X_test, y_train, y_test = train_test_split(X, y, test_size=.4, random_state=123)\n",
        "\n",
        "# Create and fit the logistic regression model\n",
        "clf_logistic = LogisticRegression(solver='lbfgs').fit(X_train, np.ravel(y_train))\n",
        "\n",
        "# Print the models coefficients\n",
        "print(clf_logistic.coef_)"
      ]
    },
    {
      "cell_type": "code",
      "execution_count": 34,
      "metadata": {
        "colab": {
          "base_uri": "https://localhost:8080/"
        },
        "id": "EgabZLXC-W2V",
        "outputId": "275dccf9-de4e-4f76-a835-79fad9c186ad"
      },
      "outputs": [
        {
          "output_type": "stream",
          "name": "stdout",
          "text": [
            "Index(['person_age', 'person_income', 'person_emp_length', 'loan_amnt',\n",
            "       'loan_int_rate', 'loan_status', 'loan_percent_income',\n",
            "       'cb_person_cred_hist_length', 'person_home_ownership_MORTGAGE',\n",
            "       'person_home_ownership_OTHER', 'person_home_ownership_OWN',\n",
            "       'person_home_ownership_RENT', 'loan_intent_DEBTCONSOLIDATION',\n",
            "       'loan_intent_EDUCATION', 'loan_intent_HOMEIMPROVEMENT',\n",
            "       'loan_intent_MEDICAL', 'loan_intent_PERSONAL', 'loan_intent_VENTURE',\n",
            "       'loan_grade_A', 'loan_grade_B', 'loan_grade_C', 'loan_grade_D',\n",
            "       'loan_grade_E', 'loan_grade_F', 'loan_grade_G',\n",
            "       'cb_person_default_on_file_N', 'cb_person_default_on_file_Y'],\n",
            "      dtype='object')\n"
          ]
        }
      ],
      "source": [
        "# Create two data sets for numeric and non-numeric data\n",
        "cred_num = cr_loan_clean.select_dtypes(exclude=['object'])\n",
        "cred_str = cr_loan_clean.select_dtypes(include=['object'])\n",
        "\n",
        "# One-hot encode the non-numeric columns\n",
        "cred_str_onehot = pd.get_dummies(cred_str)\n",
        "\n",
        "# Union the one-hot encoded columns to the numeric ones\n",
        "cr_loan_prep = pd.concat([cred_num, cred_str_onehot], axis=1)\n",
        "\n",
        "# Print the columns in the new data set\n",
        "print(cr_loan_prep.columns)"
      ]
    },
    {
      "cell_type": "code",
      "execution_count": 35,
      "metadata": {
        "id": "suHddvkn-W2V"
      },
      "outputs": [],
      "source": [
        "#Split the clean dataset again\n",
        "\n",
        "X = cr_loan_prep.drop('loan_status', axis=1)\n",
        "y = cr_loan_prep[['loan_status']]\n",
        "\n",
        "X_train, X_test, y_train, y_test = train_test_split(X, y, test_size=.4, random_state=123)"
      ]
    },
    {
      "cell_type": "code",
      "execution_count": 36,
      "metadata": {
        "colab": {
          "base_uri": "https://localhost:8080/"
        },
        "id": "41cYu_3r-W2V",
        "outputId": "db72948f-a72d-478b-8ffd-7922e0739098"
      },
      "outputs": [
        {
          "output_type": "stream",
          "name": "stdout",
          "text": [
            "   loan_status  prob_default\n",
            "0            1      0.445779\n",
            "1            1      0.223447\n",
            "2            0      0.288558\n",
            "3            0      0.169358\n",
            "4            1      0.114182\n"
          ]
        }
      ],
      "source": [
        "# Train the logistic regression model on the training data\n",
        "clf_logistic = LogisticRegression(solver='lbfgs').fit(X_train, np.ravel(y_train))\n",
        "\n",
        "# Create predictions of probability for loan status using test data\n",
        "preds = clf_logistic.predict_proba(X_test)\n",
        "\n",
        "# Create dataframes of first five predictions, and first five true labels\n",
        "preds_df = pd.DataFrame(preds[:,1][0:5], columns = ['prob_default'])\n",
        "true_df = y_test.head()\n",
        "\n",
        "# Concatenate and print the two data frames for comparison\n",
        "print(pd.concat([true_df.reset_index(drop = True), preds_df], axis = 1))"
      ]
    },
    {
      "cell_type": "code",
      "execution_count": 37,
      "metadata": {
        "id": "IelN9To7-W2W"
      },
      "outputs": [],
      "source": [
        "logreg_preds = pd.DataFrame(preds[:,1], columns = ['logreg_prob_default'])"
      ]
    },
    {
      "cell_type": "markdown",
      "metadata": {
        "id": "hAGuBIpO-W2W"
      },
      "source": [
        "### Model Evaluation"
      ]
    },
    {
      "cell_type": "code",
      "execution_count": 38,
      "metadata": {
        "colab": {
          "base_uri": "https://localhost:8080/"
        },
        "id": "Bjvh646F-W2W",
        "outputId": "c8525cce-3177-4b5c-e2a6-6b4d72e3cde7"
      },
      "outputs": [
        {
          "output_type": "stream",
          "name": "stdout",
          "text": [
            "0    11175\n",
            "1      609\n",
            "Name: loan_status, dtype: int64\n",
            "              precision    recall  f1-score   support\n",
            "\n",
            " Non-Default       0.81      0.98      0.89      9198\n",
            "     Default       0.71      0.17      0.27      2586\n",
            "\n",
            "    accuracy                           0.80     11784\n",
            "   macro avg       0.76      0.57      0.58     11784\n",
            "weighted avg       0.79      0.80      0.75     11784\n",
            "\n"
          ]
        }
      ],
      "source": [
        "from sklearn.metrics import classification_report\n",
        "\n",
        "# Create a dataframe for the probabilities of default\n",
        "preds_df = pd.DataFrame(preds[:,1], columns = ['prob_default'])\n",
        "\n",
        "# Reassign loan status based on the threshold\n",
        "preds_df['loan_status'] = preds_df['prob_default'].apply(lambda x: 1 if x > 0.50 else 0)\n",
        "\n",
        "# Print the row counts for each loan status\n",
        "print(preds_df['loan_status'].value_counts())\n",
        "\n",
        "# Print the classification report\n",
        "target_names = ['Non-Default', 'Default']\n",
        "print(classification_report(y_test, preds_df['loan_status'], target_names=target_names))"
      ]
    },
    {
      "cell_type": "markdown",
      "metadata": {
        "id": "VQqgZP_R-W2W"
      },
      "source": [
        "It looks like almost all of our test set was predicted to be non-default. The recall for defaults is 0.17 meaning 17% of our true defaults were predicted correctly. This most certainly means our threshold value of 0.5 is not the best choice in this scenario."
      ]
    },
    {
      "cell_type": "code",
      "execution_count": 39,
      "metadata": {
        "id": "bzArYJRi-W2X"
      },
      "outputs": [],
      "source": [
        "from sklearn.metrics import precision_recall_fscore_support"
      ]
    },
    {
      "cell_type": "code",
      "execution_count": 40,
      "metadata": {
        "colab": {
          "base_uri": "https://localhost:8080/"
        },
        "id": "q4t0vxSn-W2X",
        "outputId": "dc409d8a-aa0f-43bf-eb79-f52c1c38a7ee"
      },
      "outputs": [
        {
          "output_type": "stream",
          "name": "stdout",
          "text": [
            "(array([0.80742729, 0.71264368]), array([0.98097412, 0.16782676]), array([0.8857802 , 0.27167449]), array([9198, 2586]))\n"
          ]
        }
      ],
      "source": [
        "print(precision_recall_fscore_support(y_test,preds_df['loan_status']))"
      ]
    },
    {
      "cell_type": "code",
      "execution_count": 41,
      "metadata": {
        "colab": {
          "base_uri": "https://localhost:8080/"
        },
        "id": "PdV54-0f-W2X",
        "outputId": "d59866ba-2d93-420b-ad20-e6a609f0c2ba"
      },
      "outputs": [
        {
          "output_type": "stream",
          "name": "stdout",
          "text": [
            "0.8025288526816021\n"
          ]
        }
      ],
      "source": [
        "print(clf_logistic.score(X_test, y_test))"
      ]
    },
    {
      "cell_type": "markdown",
      "metadata": {
        "id": "tAq2GYpv-W2X"
      },
      "source": [
        "### Visually scoring credit models"
      ]
    },
    {
      "cell_type": "code",
      "execution_count": 42,
      "metadata": {
        "id": "SM23chD8-W2Y"
      },
      "outputs": [],
      "source": [
        "from sklearn.metrics import roc_curve\n",
        "from sklearn.metrics import roc_auc_score"
      ]
    },
    {
      "cell_type": "code",
      "execution_count": 43,
      "metadata": {
        "colab": {
          "base_uri": "https://localhost:8080/",
          "height": 265
        },
        "id": "EunQzjIa-W2Y",
        "outputId": "3d25f5e4-fa76-4ee1-c2dd-46494d759d61"
      },
      "outputs": [
        {
          "output_type": "display_data",
          "data": {
            "text/plain": [
              "<Figure size 432x288 with 1 Axes>"
            ],
            "image/png": "[encoded data removed]"
          },
          "metadata": {
            "needs_background": "light"
          }
        }
      ],
      "source": [
        "# Plot the ROC curve of the probabilities of default\n",
        "prob_default = preds[:, 1]\n",
        "fallout, sensitivity, thresholds = roc_curve(y_test, prob_default)\n",
        "plt.plot(fallout, sensitivity, color = 'darkorange')\n",
        "plt.plot([0, 1], [0, 1], linestyle='--')\n",
        "plt.show()\n",
        "\n",
        "# Compute the AUC and store it in a variable\n",
        "auc = roc_auc_score(y_test, prob_default)"
      ]
    },
    {
      "cell_type": "code",
      "execution_count": 44,
      "metadata": {
        "colab": {
          "base_uri": "https://localhost:8080/"
        },
        "id": "ii7mRNH5-W2Y",
        "outputId": "d6190a64-ed6a-4636-bb91-f7c12412e7c9"
      },
      "outputs": [
        {
          "output_type": "stream",
          "name": "stdout",
          "text": [
            "0.7643248801355148\n"
          ]
        }
      ],
      "source": [
        "print(auc)"
      ]
    },
    {
      "cell_type": "markdown",
      "metadata": {
        "id": "c8jDd85A-W2Z"
      },
      "source": [
        "### What is the optimal threshold?"
      ]
    },
    {
      "cell_type": "code",
      "execution_count": 45,
      "metadata": {
        "id": "gan13BQ5-W2Z"
      },
      "outputs": [],
      "source": [
        "from sklearn.metrics import confusion_matrix"
      ]
    },
    {
      "cell_type": "code",
      "execution_count": 46,
      "metadata": {
        "colab": {
          "base_uri": "https://localhost:8080/"
        },
        "id": "pKVabvR0-W2Z",
        "outputId": "ab7ac0eb-d0a7-4e75-afaa-eacae9d01a20"
      },
      "outputs": [
        {
          "output_type": "stream",
          "name": "stdout",
          "text": [
            "[[9023  175]\n",
            " [2152  434]]\n"
          ]
        }
      ],
      "source": [
        "# Print the confusion matrix\n",
        "print(confusion_matrix(y_test,preds_df['loan_status']))"
      ]
    },
    {
      "cell_type": "code",
      "execution_count": 47,
      "metadata": {
        "colab": {
          "base_uri": "https://localhost:8080/"
        },
        "id": "qG1KPGaR-W2Z",
        "outputId": "a6de36b6-4af9-405d-e15d-c0dddea8969d"
      },
      "outputs": [
        {
          "output_type": "stream",
          "name": "stdout",
          "text": [
            "[[8476  722]\n",
            " [1386 1200]]\n"
          ]
        }
      ],
      "source": [
        "# Set the threshold for defaults to 0.4\n",
        "preds_df['loan_status'] = preds_df['prob_default'].apply(lambda x: 1 if x > 0.4 else 0)\n",
        "\n",
        "# Print the confusion matrix\n",
        "print(confusion_matrix(y_test,preds_df['loan_status']))"
      ]
    },
    {
      "cell_type": "markdown",
      "metadata": {
        "id": "Jhc2TqW9-W2Z"
      },
      "source": [
        "Calculating the impact of 0.4 threshold on the model performance."
      ]
    },
    {
      "cell_type": "code",
      "execution_count": 48,
      "metadata": {
        "id": "I55b3Zqs-W2a"
      },
      "outputs": [],
      "source": [
        "avg_loan_amnt = np.mean(cr_loan_prep['loan_amnt'])"
      ]
    },
    {
      "cell_type": "code",
      "execution_count": 49,
      "metadata": {
        "id": "pTzLqw3W-W2a"
      },
      "outputs": [],
      "source": [
        "# Store the number of loan defaults from the prediction data\n",
        "num_defaults = preds_df['loan_status'].value_counts()[1]"
      ]
    },
    {
      "cell_type": "code",
      "execution_count": 50,
      "metadata": {
        "colab": {
          "base_uri": "https://localhost:8080/"
        },
        "id": "fGVzURrS-W2a",
        "outputId": "e7ff52fe-11f1-4cd3-85e2-d28d52215dfb"
      },
      "outputs": [
        {
          "output_type": "stream",
          "name": "stdout",
          "text": [
            "9872265.223119883\n"
          ]
        }
      ],
      "source": [
        "# Store the default recall from the classification report\n",
        "default_recall = precision_recall_fscore_support(y_test,preds_df['loan_status'])[1][1]\n",
        "\n",
        "# Calculate the estimated impact of the new default recall rate\n",
        "print(num_defaults * avg_loan_amnt * (1 - default_recall))"
      ]
    },
    {
      "cell_type": "markdown",
      "metadata": {
        "id": "UREqyzB5-W2a"
      },
      "source": [
        "The threshold of 0.275 is a good starting point, albeit impractical. "
      ]
    },
    {
      "cell_type": "markdown",
      "metadata": {
        "id": "MIcTac63-W2b"
      },
      "source": [
        "# EXTREME GRADIENT BOOSTED MODEL"
      ]
    },
    {
      "cell_type": "code",
      "execution_count": 52,
      "metadata": {
        "id": "BvP2Hh7n-W2b"
      },
      "outputs": [],
      "source": [
        "X_train, X_test, y_train, y_test = train_test_split(X, y, test_size=.4, random_state=123)"
      ]
    },
    {
      "cell_type": "code",
      "execution_count": 53,
      "metadata": {
        "colab": {
          "base_uri": "https://localhost:8080/"
        },
        "id": "ecHEcTPj-W2b",
        "outputId": "174842a3-2a9d-4679-f390-5fef1b709fec"
      },
      "outputs": [
        {
          "output_type": "stream",
          "name": "stdout",
          "text": [
            "   loan_status  prob_default\n",
            "0            1      0.940435\n",
            "1            1      0.922014\n",
            "2            0      0.021707\n",
            "3            0      0.026483\n",
            "4            1      0.064803\n"
          ]
        }
      ],
      "source": [
        "# Train a model\n",
        "import xgboost as xgb\n",
        "clf_gbt = xgb.XGBClassifier().fit(X_train, np.ravel(y_train))\n",
        "\n",
        "# Predict with a model\n",
        "gbt_preds = clf_gbt.predict_proba(X_test)\n",
        "\n",
        "# Create dataframes of first five predictions, and first five true labels\n",
        "preds_df = pd.DataFrame(gbt_preds[:,1][0:5], columns = ['prob_default'])\n",
        "true_df = y_test.head()\n",
        "\n",
        "# Concatenate and print the two data frames for comparison\n",
        "print(pd.concat([true_df.reset_index(drop = True), preds_df], axis = 1))"
      ]
    },
    {
      "cell_type": "code",
      "execution_count": 54,
      "metadata": {
        "id": "u2CC9mq_-W2b"
      },
      "outputs": [],
      "source": [
        "xgbt_preds = pd.DataFrame(gbt_preds[:,1], columns = ['xgbt_prob_default'])"
      ]
    },
    {
      "cell_type": "markdown",
      "metadata": {
        "id": "91qrpW5T-W2b"
      },
      "source": [
        "We will now compare the predictions of logistic regression with the XgBoost predictions."
      ]
    },
    {
      "cell_type": "code",
      "execution_count": 55,
      "metadata": {
        "id": "WJUV348q-W2b"
      },
      "outputs": [],
      "source": [
        "loan_amnt = pd.DataFrame(X_test['loan_amnt'])"
      ]
    },
    {
      "cell_type": "code",
      "execution_count": 56,
      "metadata": {
        "scrolled": true,
        "colab": {
          "base_uri": "https://localhost:8080/",
          "height": 424
        },
        "id": "QbyicR63-W2c",
        "outputId": "971f9ddb-e163-4fed-bf3b-06926cbc8924"
      },
      "outputs": [
        {
          "output_type": "execute_result",
          "data": {
            "text/plain": [
              "       loan_amnt\n",
              "31622      15000\n",
              "24935      11200\n",
              "15342      15000\n",
              "3460       10800\n",
              "16424       3000\n",
              "...          ...\n",
              "25231       8000\n",
              "30380       6600\n",
              "29849      16000\n",
              "1780        6000\n",
              "11446      10000\n",
              "\n",
              "[11784 rows x 1 columns]"
            ],
            "text/html": [
              "\n",
              "  <div id=\"df-6c0d213d-ce65-4a1c-a1a1-2fae3c60809b\">\n",
              "    <div class=\"colab-df-container\">\n",
              "      <div>\n",
              "<style scoped>\n",
              "    .dataframe tbody tr th:only-of-type {\n",
              "        vertical-align: middle;\n",
              "    }\n",
              "\n",
              "    .dataframe tbody tr th {\n",
              "        vertical-align: top;\n",
              "    }\n",
              "\n",
              "    .dataframe thead th {\n",
              "        text-align: right;\n",
              "    }\n",
              "</style>\n",
              "<table border=\"1\" class=\"dataframe\">\n",
              "  <thead>\n",
              "    <tr style=\"text-align: right;\">\n",
              "      <th></th>\n",
              "      <th>loan_amnt</th>\n",
              "    </tr>\n",
              "  </thead>\n",
              "  <tbody>\n",
              "    <tr>\n",
              "      <th>31622</th>\n",
              "      <td>15000</td>\n",
              "    </tr>\n",
              "    <tr>\n",
              "      <th>24935</th>\n",
              "      <td>11200</td>\n",
              "    </tr>\n",
              "    <tr>\n",
              "      <th>15342</th>\n",
              "      <td>15000</td>\n",
              "    </tr>\n",
              "    <tr>\n",
              "      <th>3460</th>\n",
              "      <td>10800</td>\n",
              "    </tr>\n",
              "    <tr>\n",
              "      <th>16424</th>\n",
              "      <td>3000</td>\n",
              "    </tr>\n",
              "    <tr>\n",
              "      <th>...</th>\n",
              "      <td>...</td>\n",
              "    </tr>\n",
              "    <tr>\n",
              "      <th>25231</th>\n",
              "      <td>8000</td>\n",
              "    </tr>\n",
              "    <tr>\n",
              "      <th>30380</th>\n",
              "      <td>6600</td>\n",
              "    </tr>\n",
              "    <tr>\n",
              "      <th>29849</th>\n",
              "      <td>16000</td>\n",
              "    </tr>\n",
              "    <tr>\n",
              "      <th>1780</th>\n",
              "      <td>6000</td>\n",
              "    </tr>\n",
              "    <tr>\n",
              "      <th>11446</th>\n",
              "      <td>10000</td>\n",
              "    </tr>\n",
              "  </tbody>\n",
              "</table>\n",
              "<p>11784 rows × 1 columns</p>\n",
              "</div>\n",
              "      <button class=\"colab-df-convert\" onclick=\"convertToInteractive('df-6c0d213d-ce65-4a1c-a1a1-2fae3c60809b')\"\n",
              "              title=\"Convert this dataframe to an interactive table.\"\n",
              "              style=\"display:none;\">\n",
              "        \n",
              "  <svg xmlns=\"http://www.w3.org/2000/svg\" height=\"24px\"viewBox=\"0 0 24 24\"\n",
              "       width=\"24px\">\n",
              "    <path d=\"M0 0h24v24H0V0z\" fill=\"none\"/>\n",
              "    <path d=\"M18.56 5.44l.94 2.06.94-2.06 2.06-.94-2.06-.94-.94-2.06-.94 2.06-2.06.94zm-11 1L8.5 8.5l.94-2.06 2.06-.94-2.06-.94L8.5 2.5l-.94 2.06-2.06.94zm10 10l.94 2.06.94-2.06 2.06-.94-2.06-.94-.94-2.06-.94 2.06-2.06.94z\"/><path d=\"M17.41 7.96l-1.37-1.37c-.4-.4-.92-.59-1.43-.59-.52 0-1.04.2-1.43.59L10.3 9.45l-7.72 7.72c-.78.78-.78 2.05 0 2.83L4 21.41c.39.39.9.59 1.41.59.51 0 1.02-.2 1.41-.59l7.78-7.78 2.81-2.81c.8-.78.8-2.07 0-2.86zM5.41 20L4 18.59l7.72-7.72 1.47 1.35L5.41 20z\"/>\n",
              "  </svg>\n",
              "      </button>\n",
              "      \n",
              "  <style>\n",
              "    .colab-df-container {\n",
              "      display:flex;\n",
              "      flex-wrap:wrap;\n",
              "      gap: 12px;\n",
              "    }\n",
              "\n",
              "    .colab-df-convert {\n",
              "      background-color: #E8F0FE;\n",
              "      border: none;\n",
              "      border-radius: 50%;\n",
              "      cursor: pointer;\n",
              "      display: none;\n",
              "      fill: #1967D2;\n",
              "      height: 32px;\n",
              "      padding: 0 0 0 0;\n",
              "      width: 32px;\n",
              "    }\n",
              "\n",
              "    .colab-df-convert:hover {\n",
              "      background-color: #E2EBFA;\n",
              "      box-shadow: 0px 1px 2px rgba(60, 64, 67, 0.3), 0px 1px 3px 1px rgba(60, 64, 67, 0.15);\n",
              "      fill: #174EA6;\n",
              "    }\n",
              "\n",
              "    [theme=dark] .colab-df-convert {\n",
              "      background-color: #3B4455;\n",
              "      fill: #D2E3FC;\n",
              "    }\n",
              "\n",
              "    [theme=dark] .colab-df-convert:hover {\n",
              "      background-color: #434B5C;\n",
              "      box-shadow: 0px 1px 3px 1px rgba(0, 0, 0, 0.15);\n",
              "      filter: drop-shadow(0px 1px 2px rgba(0, 0, 0, 0.3));\n",
              "      fill: #FFFFFF;\n",
              "    }\n",
              "  </style>\n",
              "\n",
              "      <script>\n",
              "        const buttonEl =\n",
              "          document.querySelector('#df-6c0d213d-ce65-4a1c-a1a1-2fae3c60809b button.colab-df-convert');\n",
              "        buttonEl.style.display =\n",
              "          google.colab.kernel.accessAllowed ? 'block' : 'none';\n",
              "\n",
              "        async function convertToInteractive(key) {\n",
              "          const element = document.querySelector('#df-6c0d213d-ce65-4a1c-a1a1-2fae3c60809b');\n",
              "          const dataTable =\n",
              "            await google.colab.kernel.invokeFunction('convertToInteractive',\n",
              "                                                     [key], {});\n",
              "          if (!dataTable) return;\n",
              "\n",
              "          const docLinkHtml = 'Like what you see? Visit the ' +\n",
              "            '<a target=\"_blank\" href=https://colab.research.google.com/notebooks/data_table.ipynb>data table notebook</a>'\n",
              "            + ' to learn more about interactive tables.';\n",
              "          element.innerHTML = '';\n",
              "          dataTable['output_type'] = 'display_data';\n",
              "          await google.colab.output.renderOutput(dataTable, element);\n",
              "          const docLink = document.createElement('div');\n",
              "          docLink.innerHTML = docLinkHtml;\n",
              "          element.appendChild(docLink);\n",
              "        }\n",
              "      </script>\n",
              "    </div>\n",
              "  </div>\n",
              "  "
            ]
          },
          "metadata": {},
          "execution_count": 56
        }
      ],
      "source": [
        "loan_amnt"
      ]
    },
    {
      "cell_type": "code",
      "execution_count": 57,
      "metadata": {
        "id": "lKpsjeT_-W2c"
      },
      "outputs": [],
      "source": [
        "loan_status_amnt = pd.concat([y_test,loan_amnt], axis = 1)"
      ]
    },
    {
      "cell_type": "code",
      "execution_count": 58,
      "metadata": {
        "id": "ahDnT06B-W2c"
      },
      "outputs": [],
      "source": [
        "portfolio = pd.concat([logreg_preds, xgbt_preds, loan_status_amnt.reset_index(drop = True)], axis = 1)"
      ]
    },
    {
      "cell_type": "code",
      "execution_count": 59,
      "metadata": {
        "colab": {
          "base_uri": "https://localhost:8080/",
          "height": 206
        },
        "id": "W10yHNpO-W2c",
        "outputId": "f7a1ef04-bfc1-4300-e4dc-f0356459ad77"
      },
      "outputs": [
        {
          "output_type": "execute_result",
          "data": {
            "text/plain": [
              "   logreg_prob_default  xgbt_prob_default  loan_status  loan_amnt\n",
              "0             0.445779           0.940435            1      15000\n",
              "1             0.223447           0.922014            1      11200\n",
              "2             0.288558           0.021707            0      15000\n",
              "3             0.169358           0.026483            0      10800\n",
              "4             0.114182           0.064803            1       3000"
            ],
            "text/html": [
              "\n",
              "  <div id=\"df-0285b22f-5a83-4cc0-9278-8312a9078bfd\">\n",
              "    <div class=\"colab-df-container\">\n",
              "      <div>\n",
              "<style scoped>\n",
              "    .dataframe tbody tr th:only-of-type {\n",
              "        vertical-align: middle;\n",
              "    }\n",
              "\n",
              "    .dataframe tbody tr th {\n",
              "        vertical-align: top;\n",
              "    }\n",
              "\n",
              "    .dataframe thead th {\n",
              "        text-align: right;\n",
              "    }\n",
              "</style>\n",
              "<table border=\"1\" class=\"dataframe\">\n",
              "  <thead>\n",
              "    <tr style=\"text-align: right;\">\n",
              "      <th></th>\n",
              "      <th>logreg_prob_default</th>\n",
              "      <th>xgbt_prob_default</th>\n",
              "      <th>loan_status</th>\n",
              "      <th>loan_amnt</th>\n",
              "    </tr>\n",
              "  </thead>\n",
              "  <tbody>\n",
              "    <tr>\n",
              "      <th>0</th>\n",
              "      <td>0.445779</td>\n",
              "      <td>0.940435</td>\n",
              "      <td>1</td>\n",
              "      <td>15000</td>\n",
              "    </tr>\n",
              "    <tr>\n",
              "      <th>1</th>\n",
              "      <td>0.223447</td>\n",
              "      <td>0.922014</td>\n",
              "      <td>1</td>\n",
              "      <td>11200</td>\n",
              "    </tr>\n",
              "    <tr>\n",
              "      <th>2</th>\n",
              "      <td>0.288558</td>\n",
              "      <td>0.021707</td>\n",
              "      <td>0</td>\n",
              "      <td>15000</td>\n",
              "    </tr>\n",
              "    <tr>\n",
              "      <th>3</th>\n",
              "      <td>0.169358</td>\n",
              "      <td>0.026483</td>\n",
              "      <td>0</td>\n",
              "      <td>10800</td>\n",
              "    </tr>\n",
              "    <tr>\n",
              "      <th>4</th>\n",
              "      <td>0.114182</td>\n",
              "      <td>0.064803</td>\n",
              "      <td>1</td>\n",
              "      <td>3000</td>\n",
              "    </tr>\n",
              "  </tbody>\n",
              "</table>\n",
              "</div>\n",
              "      <button class=\"colab-df-convert\" onclick=\"convertToInteractive('df-0285b22f-5a83-4cc0-9278-8312a9078bfd')\"\n",
              "              title=\"Convert this dataframe to an interactive table.\"\n",
              "              style=\"display:none;\">\n",
              "        \n",
              "  <svg xmlns=\"http://www.w3.org/2000/svg\" height=\"24px\"viewBox=\"0 0 24 24\"\n",
              "       width=\"24px\">\n",
              "    <path d=\"M0 0h24v24H0V0z\" fill=\"none\"/>\n",
              "    <path d=\"M18.56 5.44l.94 2.06.94-2.06 2.06-.94-2.06-.94-.94-2.06-.94 2.06-2.06.94zm-11 1L8.5 8.5l.94-2.06 2.06-.94-2.06-.94L8.5 2.5l-.94 2.06-2.06.94zm10 10l.94 2.06.94-2.06 2.06-.94-2.06-.94-.94-2.06-.94 2.06-2.06.94z\"/><path d=\"M17.41 7.96l-1.37-1.37c-.4-.4-.92-.59-1.43-.59-.52 0-1.04.2-1.43.59L10.3 9.45l-7.72 7.72c-.78.78-.78 2.05 0 2.83L4 21.41c.39.39.9.59 1.41.59.51 0 1.02-.2 1.41-.59l7.78-7.78 2.81-2.81c.8-.78.8-2.07 0-2.86zM5.41 20L4 18.59l7.72-7.72 1.47 1.35L5.41 20z\"/>\n",
              "  </svg>\n",
              "      </button>\n",
              "      \n",
              "  <style>\n",
              "    .colab-df-container {\n",
              "      display:flex;\n",
              "      flex-wrap:wrap;\n",
              "      gap: 12px;\n",
              "    }\n",
              "\n",
              "    .colab-df-convert {\n",
              "      background-color: #E8F0FE;\n",
              "      border: none;\n",
              "      border-radius: 50%;\n",
              "      cursor: pointer;\n",
              "      display: none;\n",
              "      fill: #1967D2;\n",
              "      height: 32px;\n",
              "      padding: 0 0 0 0;\n",
              "      width: 32px;\n",
              "    }\n",
              "\n",
              "    .colab-df-convert:hover {\n",
              "      background-color: #E2EBFA;\n",
              "      box-shadow: 0px 1px 2px rgba(60, 64, 67, 0.3), 0px 1px 3px 1px rgba(60, 64, 67, 0.15);\n",
              "      fill: #174EA6;\n",
              "    }\n",
              "\n",
              "    [theme=dark] .colab-df-convert {\n",
              "      background-color: #3B4455;\n",
              "      fill: #D2E3FC;\n",
              "    }\n",
              "\n",
              "    [theme=dark] .colab-df-convert:hover {\n",
              "      background-color: #434B5C;\n",
              "      box-shadow: 0px 1px 3px 1px rgba(0, 0, 0, 0.15);\n",
              "      filter: drop-shadow(0px 1px 2px rgba(0, 0, 0, 0.3));\n",
              "      fill: #FFFFFF;\n",
              "    }\n",
              "  </style>\n",
              "\n",
              "      <script>\n",
              "        const buttonEl =\n",
              "          document.querySelector('#df-0285b22f-5a83-4cc0-9278-8312a9078bfd button.colab-df-convert');\n",
              "        buttonEl.style.display =\n",
              "          google.colab.kernel.accessAllowed ? 'block' : 'none';\n",
              "\n",
              "        async function convertToInteractive(key) {\n",
              "          const element = document.querySelector('#df-0285b22f-5a83-4cc0-9278-8312a9078bfd');\n",
              "          const dataTable =\n",
              "            await google.colab.kernel.invokeFunction('convertToInteractive',\n",
              "                                                     [key], {});\n",
              "          if (!dataTable) return;\n",
              "\n",
              "          const docLinkHtml = 'Like what you see? Visit the ' +\n",
              "            '<a target=\"_blank\" href=https://colab.research.google.com/notebooks/data_table.ipynb>data table notebook</a>'\n",
              "            + ' to learn more about interactive tables.';\n",
              "          element.innerHTML = '';\n",
              "          dataTable['output_type'] = 'display_data';\n",
              "          await google.colab.output.renderOutput(dataTable, element);\n",
              "          const docLink = document.createElement('div');\n",
              "          docLink.innerHTML = docLinkHtml;\n",
              "          element.appendChild(docLink);\n",
              "        }\n",
              "      </script>\n",
              "    </div>\n",
              "  </div>\n",
              "  "
            ]
          },
          "metadata": {},
          "execution_count": 59
        }
      ],
      "source": [
        "portfolio.head()"
      ]
    },
    {
      "cell_type": "markdown",
      "metadata": {
        "id": "XyMfn_GB-W2d"
      },
      "source": [
        "Calculating Expected loss assuming lgd = 20%"
      ]
    },
    {
      "cell_type": "code",
      "execution_count": 60,
      "metadata": {
        "id": "FwQRGNu8-W2d"
      },
      "outputs": [],
      "source": [
        "portfolio['lgd'] = 0.2"
      ]
    },
    {
      "cell_type": "code",
      "execution_count": 61,
      "metadata": {
        "colab": {
          "base_uri": "https://localhost:8080/",
          "height": 206
        },
        "id": "06aP-dKF-W2d",
        "outputId": "84b479fe-2aa7-49ff-cc2a-d616f8fce778"
      },
      "outputs": [
        {
          "output_type": "execute_result",
          "data": {
            "text/plain": [
              "   logreg_prob_default  xgbt_prob_default  loan_status  loan_amnt  lgd\n",
              "0             0.445779           0.940435            1      15000  0.2\n",
              "1             0.223447           0.922014            1      11200  0.2\n",
              "2             0.288558           0.021707            0      15000  0.2\n",
              "3             0.169358           0.026483            0      10800  0.2\n",
              "4             0.114182           0.064803            1       3000  0.2"
            ],
            "text/html": [
              "\n",
              "  <div id=\"df-75d44375-2604-4cbb-af1b-5aa16c9b9673\">\n",
              "    <div class=\"colab-df-container\">\n",
              "      <div>\n",
              "<style scoped>\n",
              "    .dataframe tbody tr th:only-of-type {\n",
              "        vertical-align: middle;\n",
              "    }\n",
              "\n",
              "    .dataframe tbody tr th {\n",
              "        vertical-align: top;\n",
              "    }\n",
              "\n",
              "    .dataframe thead th {\n",
              "        text-align: right;\n",
              "    }\n",
              "</style>\n",
              "<table border=\"1\" class=\"dataframe\">\n",
              "  <thead>\n",
              "    <tr style=\"text-align: right;\">\n",
              "      <th></th>\n",
              "      <th>logreg_prob_default</th>\n",
              "      <th>xgbt_prob_default</th>\n",
              "      <th>loan_status</th>\n",
              "      <th>loan_amnt</th>\n",
              "      <th>lgd</th>\n",
              "    </tr>\n",
              "  </thead>\n",
              "  <tbody>\n",
              "    <tr>\n",
              "      <th>0</th>\n",
              "      <td>0.445779</td>\n",
              "      <td>0.940435</td>\n",
              "      <td>1</td>\n",
              "      <td>15000</td>\n",
              "      <td>0.2</td>\n",
              "    </tr>\n",
              "    <tr>\n",
              "      <th>1</th>\n",
              "      <td>0.223447</td>\n",
              "      <td>0.922014</td>\n",
              "      <td>1</td>\n",
              "      <td>11200</td>\n",
              "      <td>0.2</td>\n",
              "    </tr>\n",
              "    <tr>\n",
              "      <th>2</th>\n",
              "      <td>0.288558</td>\n",
              "      <td>0.021707</td>\n",
              "      <td>0</td>\n",
              "      <td>15000</td>\n",
              "      <td>0.2</td>\n",
              "    </tr>\n",
              "    <tr>\n",
              "      <th>3</th>\n",
              "      <td>0.169358</td>\n",
              "      <td>0.026483</td>\n",
              "      <td>0</td>\n",
              "      <td>10800</td>\n",
              "      <td>0.2</td>\n",
              "    </tr>\n",
              "    <tr>\n",
              "      <th>4</th>\n",
              "      <td>0.114182</td>\n",
              "      <td>0.064803</td>\n",
              "      <td>1</td>\n",
              "      <td>3000</td>\n",
              "      <td>0.2</td>\n",
              "    </tr>\n",
              "  </tbody>\n",
              "</table>\n",
              "</div>\n",
              "      <button class=\"colab-df-convert\" onclick=\"convertToInteractive('df-75d44375-2604-4cbb-af1b-5aa16c9b9673')\"\n",
              "              title=\"Convert this dataframe to an interactive table.\"\n",
              "              style=\"display:none;\">\n",
              "        \n",
              "  <svg xmlns=\"http://www.w3.org/2000/svg\" height=\"24px\"viewBox=\"0 0 24 24\"\n",
              "       width=\"24px\">\n",
              "    <path d=\"M0 0h24v24H0V0z\" fill=\"none\"/>\n",
              "    <path d=\"M18.56 5.44l.94 2.06.94-2.06 2.06-.94-2.06-.94-.94-2.06-.94 2.06-2.06.94zm-11 1L8.5 8.5l.94-2.06 2.06-.94-2.06-.94L8.5 2.5l-.94 2.06-2.06.94zm10 10l.94 2.06.94-2.06 2.06-.94-2.06-.94-.94-2.06-.94 2.06-2.06.94z\"/><path d=\"M17.41 7.96l-1.37-1.37c-.4-.4-.92-.59-1.43-.59-.52 0-1.04.2-1.43.59L10.3 9.45l-7.72 7.72c-.78.78-.78 2.05 0 2.83L4 21.41c.39.39.9.59 1.41.59.51 0 1.02-.2 1.41-.59l7.78-7.78 2.81-2.81c.8-.78.8-2.07 0-2.86zM5.41 20L4 18.59l7.72-7.72 1.47 1.35L5.41 20z\"/>\n",
              "  </svg>\n",
              "      </button>\n",
              "      \n",
              "  <style>\n",
              "    .colab-df-container {\n",
              "      display:flex;\n",
              "      flex-wrap:wrap;\n",
              "      gap: 12px;\n",
              "    }\n",
              "\n",
              "    .colab-df-convert {\n",
              "      background-color: #E8F0FE;\n",
              "      border: none;\n",
              "      border-radius: 50%;\n",
              "      cursor: pointer;\n",
              "      display: none;\n",
              "      fill: #1967D2;\n",
              "      height: 32px;\n",
              "      padding: 0 0 0 0;\n",
              "      width: 32px;\n",
              "    }\n",
              "\n",
              "    .colab-df-convert:hover {\n",
              "      background-color: #E2EBFA;\n",
              "      box-shadow: 0px 1px 2px rgba(60, 64, 67, 0.3), 0px 1px 3px 1px rgba(60, 64, 67, 0.15);\n",
              "      fill: #174EA6;\n",
              "    }\n",
              "\n",
              "    [theme=dark] .colab-df-convert {\n",
              "      background-color: #3B4455;\n",
              "      fill: #D2E3FC;\n",
              "    }\n",
              "\n",
              "    [theme=dark] .colab-df-convert:hover {\n",
              "      background-color: #434B5C;\n",
              "      box-shadow: 0px 1px 3px 1px rgba(0, 0, 0, 0.15);\n",
              "      filter: drop-shadow(0px 1px 2px rgba(0, 0, 0, 0.3));\n",
              "      fill: #FFFFFF;\n",
              "    }\n",
              "  </style>\n",
              "\n",
              "      <script>\n",
              "        const buttonEl =\n",
              "          document.querySelector('#df-75d44375-2604-4cbb-af1b-5aa16c9b9673 button.colab-df-convert');\n",
              "        buttonEl.style.display =\n",
              "          google.colab.kernel.accessAllowed ? 'block' : 'none';\n",
              "\n",
              "        async function convertToInteractive(key) {\n",
              "          const element = document.querySelector('#df-75d44375-2604-4cbb-af1b-5aa16c9b9673');\n",
              "          const dataTable =\n",
              "            await google.colab.kernel.invokeFunction('convertToInteractive',\n",
              "                                                     [key], {});\n",
              "          if (!dataTable) return;\n",
              "\n",
              "          const docLinkHtml = 'Like what you see? Visit the ' +\n",
              "            '<a target=\"_blank\" href=https://colab.research.google.com/notebooks/data_table.ipynb>data table notebook</a>'\n",
              "            + ' to learn more about interactive tables.';\n",
              "          element.innerHTML = '';\n",
              "          dataTable['output_type'] = 'display_data';\n",
              "          await google.colab.output.renderOutput(dataTable, element);\n",
              "          const docLink = document.createElement('div');\n",
              "          docLink.innerHTML = docLinkHtml;\n",
              "          element.appendChild(docLink);\n",
              "        }\n",
              "      </script>\n",
              "    </div>\n",
              "  </div>\n",
              "  "
            ]
          },
          "metadata": {},
          "execution_count": 61
        }
      ],
      "source": [
        "portfolio.head()"
      ]
    },
    {
      "cell_type": "code",
      "execution_count": 62,
      "metadata": {
        "colab": {
          "base_uri": "https://localhost:8080/"
        },
        "id": "wDGzorS0-W2d",
        "outputId": "36cba503-880f-422c-d337-d8c6fdabc018"
      },
      "outputs": [
        {
          "output_type": "stream",
          "name": "stdout",
          "text": [
            "LR expected loss:  5596776.979852879\n",
            "GBT expected loss:  5447712.9423716515\n"
          ]
        }
      ],
      "source": [
        "# Create expected loss columns for each model using the formula\n",
        "portfolio['xgbt_expected_loss'] = portfolio['xgbt_prob_default'] * portfolio['lgd'] * portfolio['loan_amnt']\n",
        "portfolio['logreg_expected_loss'] = portfolio['logreg_prob_default'] * portfolio['lgd'] * portfolio['loan_amnt']\n",
        "\n",
        "# Print the sum of the expected loss for lr\n",
        "print('LR expected loss: ', np.sum(portfolio['logreg_expected_loss']))\n",
        "\n",
        "# Print the sum of the expected loss for gbt\n",
        "print('GBT expected loss: ', np.sum(portfolio['xgbt_expected_loss']))"
      ]
    },
    {
      "cell_type": "code",
      "execution_count": 63,
      "metadata": {
        "id": "ixArpZql-W2e"
      },
      "outputs": [],
      "source": [
        "xgbt_predictions = clf_gbt.predict(X_test)"
      ]
    },
    {
      "cell_type": "code",
      "execution_count": 64,
      "metadata": {
        "colab": {
          "base_uri": "https://localhost:8080/"
        },
        "id": "WKmfT6uA-W2e",
        "outputId": "f7d03113-3eb1-44c8-9de5-a0d17fb517fd"
      },
      "outputs": [
        {
          "output_type": "stream",
          "name": "stdout",
          "text": [
            "[1 1 0 ... 0 0 0]\n"
          ]
        }
      ],
      "source": [
        "print(xgbt_predictions)"
      ]
    },
    {
      "cell_type": "code",
      "execution_count": 65,
      "metadata": {
        "colab": {
          "base_uri": "https://localhost:8080/"
        },
        "id": "dI6ljaJV-W2e",
        "outputId": "e5ac4b1a-2fe2-441a-a503-507cb28fcb07"
      },
      "outputs": [
        {
          "output_type": "stream",
          "name": "stdout",
          "text": [
            "              precision    recall  f1-score   support\n",
            "\n",
            " Non-Default       0.92      0.99      0.95      9198\n",
            "     Default       0.93      0.69      0.80      2586\n",
            "\n",
            "    accuracy                           0.92     11784\n",
            "   macro avg       0.93      0.84      0.87     11784\n",
            "weighted avg       0.92      0.92      0.92     11784\n",
            "\n"
          ]
        }
      ],
      "source": [
        "target_names = ['Non-Default', 'Default']\n",
        "print(classification_report(y_test, xgbt_predictions, target_names=target_names))"
      ]
    },
    {
      "cell_type": "code",
      "execution_count": 66,
      "metadata": {
        "id": "Qv9_BRoC-W2e"
      },
      "outputs": [],
      "source": [
        "X = cr_loan_prep[['person_income','loan_int_rate',\n",
        "                  'loan_percent_income','loan_amnt',\n",
        "                  'person_home_ownership_MORTGAGE','loan_grade_F']]"
      ]
    },
    {
      "cell_type": "code",
      "execution_count": 67,
      "metadata": {
        "id": "78dvh2hi-W2e"
      },
      "outputs": [],
      "source": [
        "X_train, X_test, y_train, y_test = train_test_split(X, y, test_size=.4, random_state=123)"
      ]
    },
    {
      "cell_type": "code",
      "execution_count": 68,
      "metadata": {
        "colab": {
          "base_uri": "https://localhost:8080/"
        },
        "id": "tgqL27HX-W2f",
        "outputId": "ef3f7b8e-066f-48bf-bd6c-603a6346ec46"
      },
      "outputs": [
        {
          "output_type": "stream",
          "name": "stdout",
          "text": [
            "{'loan_percent_income': 121, 'loan_int_rate': 183, 'person_income': 278, 'person_home_ownership_MORTGAGE': 39, 'loan_amnt': 47, 'loan_grade_F': 6}\n"
          ]
        }
      ],
      "source": [
        "clf_gbt = xgb.XGBClassifier().fit(X_train,np.ravel(y_train))\n",
        "\n",
        "# Print the column importances from the model\n",
        "print(clf_gbt.get_booster().get_score(importance_type = 'weight'))"
      ]
    },
    {
      "cell_type": "code",
      "execution_count": 69,
      "metadata": {
        "id": "FpP_soIy-W2f"
      },
      "outputs": [],
      "source": [
        "X2 = cr_loan_prep[['loan_int_rate','person_emp_length']]\n",
        "X3 = cr_loan_prep[['person_income','loan_int_rate','loan_percent_income']]"
      ]
    },
    {
      "cell_type": "code",
      "execution_count": 70,
      "metadata": {
        "id": "Kq5x4y5h-W2f"
      },
      "outputs": [],
      "source": [
        "X2_train, X2_test, X3_train, X3_test = train_test_split(X2, X3, test_size=.4, random_state=123)"
      ]
    },
    {
      "cell_type": "code",
      "execution_count": 71,
      "metadata": {
        "colab": {
          "base_uri": "https://localhost:8080/",
          "height": 295
        },
        "id": "KC4xe_lK-W2f",
        "outputId": "19e68f10-8b58-4435-cb48-11c534469a53"
      },
      "outputs": [
        {
          "output_type": "display_data",
          "data": {
            "text/plain": [
              "<Figure size 432x288 with 1 Axes>"
            ],
            "image/png": "[encoded data removed]"
          },
          "metadata": {
            "needs_background": "light"
          }
        }
      ],
      "source": [
        "# Train a model on the X data with 2 columns\n",
        "clf_gbt2 = xgb.XGBClassifier().fit(X2_train,np.ravel(y_train))\n",
        "\n",
        "# Plot the column importance for this model\n",
        "xgb.plot_importance(clf_gbt2, importance_type = 'weight')\n",
        "plt.show()"
      ]
    },
    {
      "cell_type": "code",
      "execution_count": 72,
      "metadata": {
        "colab": {
          "base_uri": "https://localhost:8080/",
          "height": 295
        },
        "id": "Mr4zNn_O-W2g",
        "outputId": "2475cd5d-ed05-430a-9819-511b7117ba75"
      },
      "outputs": [
        {
          "output_type": "display_data",
          "data": {
            "text/plain": [
              "<Figure size 432x288 with 1 Axes>"
            ],
            "image/png": "[encoded data removed]"
          },
          "metadata": {
            "needs_background": "light"
          }
        }
      ],
      "source": [
        "# Train a model on the X data with 3 columns\n",
        "clf_gbt3 = xgb.XGBClassifier().fit(X3_train,np.ravel(y_train))\n",
        "\n",
        "# Plot the column importance for this model\n",
        "xgb.plot_importance(clf_gbt3, importance_type = 'weight')\n",
        "plt.show()"
      ]
    },
    {
      "cell_type": "code",
      "execution_count": 73,
      "metadata": {
        "scrolled": true,
        "colab": {
          "base_uri": "https://localhost:8080/"
        },
        "id": "moyRZlMT-W2g",
        "outputId": "9aedcc40-d6ee-48d7-f146-f96278569201"
      },
      "outputs": [
        {
          "output_type": "stream",
          "name": "stdout",
          "text": [
            "              precision    recall  f1-score   support\n",
            "\n",
            " Non-Default       0.90      0.95      0.92      9198\n",
            "     Default       0.79      0.61      0.69      2586\n",
            "\n",
            "    accuracy                           0.88     11784\n",
            "   macro avg       0.84      0.78      0.81     11784\n",
            "weighted avg       0.87      0.88      0.87     11784\n",
            "\n",
            "              precision    recall  f1-score   support\n",
            "\n",
            " Non-Default       0.82      0.97      0.89      9198\n",
            "     Default       0.68      0.26      0.38      2586\n",
            "\n",
            "    accuracy                           0.81     11784\n",
            "   macro avg       0.75      0.61      0.63     11784\n",
            "weighted avg       0.79      0.81      0.78     11784\n",
            "\n",
            "              precision    recall  f1-score   support\n",
            "\n",
            " Non-Default       0.89      0.93      0.91      9198\n",
            "     Default       0.72      0.60      0.66      2586\n",
            "\n",
            "    accuracy                           0.86     11784\n",
            "   macro avg       0.80      0.77      0.78     11784\n",
            "weighted avg       0.85      0.86      0.86     11784\n",
            "\n"
          ]
        }
      ],
      "source": [
        "# Predict the loan_status using each model\n",
        "gbt_preds = clf_gbt.predict(X_test)\n",
        "gbt2_preds = clf_gbt2.predict(X2_test)\n",
        "gbt3_preds = clf_gbt3.predict(X3_test)\n",
        "\n",
        "# Print the classification report of the first model\n",
        "target_names = ['Non-Default', 'Default']\n",
        "print(classification_report(y_test, gbt_preds, target_names=target_names))\n",
        "\n",
        "# Print the classification report of the second model\n",
        "print(classification_report(y_test, gbt2_preds, target_names=target_names))\n",
        "\n",
        "# Print the classification report of the third model\n",
        "print(classification_report(y_test, gbt3_preds, target_names=target_names))"
      ]
    },
    {
      "cell_type": "markdown",
      "metadata": {
        "id": "Rlbcdp7--W2g"
      },
      "source": [
        "### Cross Validating Credit Models"
      ]
    },
    {
      "cell_type": "code",
      "execution_count": 74,
      "metadata": {
        "id": "xJyrBlXO-W2g"
      },
      "outputs": [],
      "source": [
        "params = {'eval_metric': 'auc', 'objective': 'binary:logistic', 'seed': 123}"
      ]
    },
    {
      "cell_type": "code",
      "execution_count": 75,
      "metadata": {
        "colab": {
          "base_uri": "https://localhost:8080/"
        },
        "id": "TiiJxOLI-W2h",
        "outputId": "b0e0359e-f97a-45ca-c631-26c2b2ec6002"
      },
      "outputs": [
        {
          "output_type": "stream",
          "name": "stdout",
          "text": [
            "   train-auc-mean  train-auc-std  test-auc-mean  test-auc-std\n",
            "0        0.884537       0.001848       0.877218      0.005511\n",
            "1        0.892087       0.002086       0.883282      0.007081\n",
            "2        0.896208       0.002214       0.885650      0.006140\n",
            "3        0.898414       0.002245       0.886062      0.006838\n",
            "4        0.900582       0.002823       0.887498      0.006857\n"
          ]
        }
      ],
      "source": [
        "# Set the values for number of folds and stopping iterations\n",
        "n_folds = 5\n",
        "early_stopping = 10\n",
        "\n",
        "# Create the DTrain matrix for XGBoost\n",
        "DTrain = xgb.DMatrix(X_train, label = y_train)\n",
        "\n",
        "# Create the data frame of cross validations\n",
        "cv_df = xgb.cv(params, DTrain, num_boost_round = 5, nfold=n_folds,\n",
        "            early_stopping_rounds=early_stopping)\n",
        "\n",
        "# Print the cross validations data frame\n",
        "print(cv_df)"
      ]
    },
    {
      "cell_type": "code",
      "execution_count": 76,
      "metadata": {
        "id": "qo0-AqrC-W2h"
      },
      "outputs": [],
      "source": [
        "# Import the necessary modules\n",
        "from sklearn.model_selection import cross_val_score"
      ]
    },
    {
      "cell_type": "code",
      "execution_count": 77,
      "metadata": {
        "colab": {
          "base_uri": "https://localhost:8080/"
        },
        "id": "0UDzW_up-W2h",
        "outputId": "c1881284-3146-478d-967c-053c6b44eda6"
      },
      "outputs": [
        {
          "output_type": "stream",
          "name": "stdout",
          "text": [
            "[0.89002037 0.88798371 0.89069925 0.870756  ]\n",
            "Average accuracy: 0.88 (+/- 0.02)\n"
          ]
        }
      ],
      "source": [
        "# Create a gradient boosted tree model using two hyperparameters\n",
        "gbt = xgb.XGBClassifier(learning_rate = 0.1, max_depth = 7)\n",
        "\n",
        "# Calculate the cross validation scores for 4 folds\n",
        "cv_scores = cross_val_score(gbt, X_train, np.ravel(y_train), cv = 4)\n",
        "\n",
        "# Print the cross validation scores\n",
        "print(cv_scores)\n",
        "\n",
        "# Print the average accuracy and standard deviation of the scores\n",
        "print(\"Average accuracy: %0.2f (+/- %0.2f)\" % (cv_scores.mean(),\n",
        "                                              cv_scores.std() * 2))"
      ]
    },
    {
      "cell_type": "markdown",
      "metadata": {
        "id": "iOLvQ-JW-W2h"
      },
      "source": [
        "### Modelling after Undersampling"
      ]
    },
    {
      "cell_type": "code",
      "execution_count": 78,
      "metadata": {
        "id": "Xezy4pYj-W2i"
      },
      "outputs": [],
      "source": [
        "#Split the clean dataset again\n",
        "\n",
        "X = cr_loan_prep.drop('loan_status', axis=1)\n",
        "y = cr_loan_prep[['loan_status']]"
      ]
    },
    {
      "cell_type": "code",
      "execution_count": 79,
      "metadata": {
        "id": "d8u6DCcI-W2i"
      },
      "outputs": [],
      "source": [
        "X_train, X_test, y_train, y_test = train_test_split(X, y, test_size=.4, random_state=123)"
      ]
    },
    {
      "cell_type": "code",
      "execution_count": 80,
      "metadata": {
        "id": "G0GK83aS-W2i"
      },
      "outputs": [],
      "source": [
        "X_y_train = pd.concat([X_train.reset_index(drop = True),\n",
        "                       y_train.reset_index(drop = True)], axis = 1)\n",
        "\n",
        "count_nondefault, count_default = X_y_train['loan_status'].value_counts()"
      ]
    },
    {
      "cell_type": "code",
      "execution_count": 81,
      "metadata": {
        "colab": {
          "base_uri": "https://localhost:8080/"
        },
        "id": "GpVVdzxq-W2i",
        "outputId": "2d0f3ddc-3309-4dc2-ac24-a05c98fbf87e"
      },
      "outputs": [
        {
          "output_type": "execute_result",
          "data": {
            "text/plain": [
              "13798"
            ]
          },
          "metadata": {},
          "execution_count": 81
        }
      ],
      "source": [
        "count_nondefault"
      ]
    },
    {
      "cell_type": "code",
      "execution_count": 82,
      "metadata": {
        "colab": {
          "base_uri": "https://localhost:8080/"
        },
        "id": "dpfS7Igc-W2i",
        "outputId": "a755704f-82cd-4542-e609-d43c0e65388b"
      },
      "outputs": [
        {
          "output_type": "execute_result",
          "data": {
            "text/plain": [
              "3877"
            ]
          },
          "metadata": {},
          "execution_count": 82
        }
      ],
      "source": [
        "count_default"
      ]
    },
    {
      "cell_type": "code",
      "execution_count": 83,
      "metadata": {
        "colab": {
          "base_uri": "https://localhost:8080/"
        },
        "id": "BXivCtkO-W2j",
        "outputId": "0959db12-8192-4771-8b16-3a50639ebe69"
      },
      "outputs": [
        {
          "output_type": "stream",
          "name": "stdout",
          "text": [
            "0    3877\n",
            "1    3877\n",
            "Name: loan_status, dtype: int64\n"
          ]
        }
      ],
      "source": [
        "# Create data sets for defaults and non-defaults\n",
        "nondefaults = X_y_train[X_y_train['loan_status'] == 0]\n",
        "defaults = X_y_train[X_y_train['loan_status'] == 1]\n",
        "\n",
        "# Undersample the non-defaults\n",
        "nondefaults_under = nondefaults.sample(count_default)\n",
        "\n",
        "# Concatenate the undersampled nondefaults with defaults\n",
        "X_y_train_under = pd.concat([nondefaults_under.reset_index(drop = True),\n",
        "                             defaults.reset_index(drop = True)], axis = 0)\n",
        "\n",
        "# Print the value counts for loan status\n",
        "print(X_y_train_under['loan_status'].value_counts())"
      ]
    },
    {
      "cell_type": "code",
      "execution_count": 84,
      "metadata": {
        "id": "FJuV5Z6R-W2j"
      },
      "outputs": [],
      "source": [
        "X_train_under = X_y_train_under.drop('loan_status', axis =1)\n",
        "y_train_under = X_y_train_under[['loan_status']]"
      ]
    },
    {
      "cell_type": "code",
      "execution_count": 85,
      "metadata": {
        "id": "QX_O_Tqf-W2j"
      },
      "outputs": [],
      "source": [
        "clf_gbt_under = xgb.XGBClassifier().fit(X_train_under,np.ravel(y_train_under))"
      ]
    },
    {
      "cell_type": "code",
      "execution_count": 86,
      "metadata": {
        "id": "6tLAWpTF-W2j"
      },
      "outputs": [],
      "source": [
        "clf_gbt_under_preds = clf_gbt_under.predict(X_test)"
      ]
    },
    {
      "cell_type": "code",
      "execution_count": 87,
      "metadata": {
        "id": "spU6tYkh-W2j"
      },
      "outputs": [],
      "source": [
        "gbt_proba = clf_gbt_under.predict_proba(X_test)"
      ]
    },
    {
      "cell_type": "code",
      "execution_count": 88,
      "metadata": {
        "colab": {
          "base_uri": "https://localhost:8080/"
        },
        "id": "NEwUm-kj-W2k",
        "outputId": "64f74a2b-3a17-40d6-9e73-a3c2be1c8514"
      },
      "outputs": [
        {
          "output_type": "stream",
          "name": "stdout",
          "text": [
            "[1 1 0 ... 0 1 0]\n"
          ]
        }
      ],
      "source": [
        "print(clf_gbt_under_preds)"
      ]
    },
    {
      "cell_type": "code",
      "execution_count": 89,
      "metadata": {
        "colab": {
          "base_uri": "https://localhost:8080/"
        },
        "id": "HMKIoi4A-W2k",
        "outputId": "0aad068f-2e8c-41c9-e7f0-9a01758b083c"
      },
      "outputs": [
        {
          "output_type": "stream",
          "name": "stdout",
          "text": [
            "              precision    recall  f1-score   support\n",
            "\n",
            " Non-Default       0.94      0.91      0.92      9198\n",
            "     Default       0.70      0.79      0.74      2586\n",
            "\n",
            "    accuracy                           0.88     11784\n",
            "   macro avg       0.82      0.85      0.83     11784\n",
            "weighted avg       0.89      0.88      0.88     11784\n",
            "\n"
          ]
        }
      ],
      "source": [
        "target_names = ['Non-Default', 'Default']\n",
        "print(classification_report(y_test, clf_gbt_under_preds, target_names=target_names))"
      ]
    },
    {
      "cell_type": "code",
      "execution_count": 90,
      "metadata": {
        "colab": {
          "base_uri": "https://localhost:8080/"
        },
        "id": "_f4oe8av-W2k",
        "outputId": "960cd057-29af-4fb7-c58d-54cf10f483be"
      },
      "outputs": [
        {
          "output_type": "stream",
          "name": "stdout",
          "text": [
            "[[8327  871]\n",
            " [ 551 2035]]\n"
          ]
        }
      ],
      "source": [
        "print(confusion_matrix(y_test,clf_gbt_under_preds))"
      ]
    },
    {
      "cell_type": "code",
      "execution_count": 91,
      "metadata": {
        "colab": {
          "base_uri": "https://localhost:8080/"
        },
        "id": "5IVUeZ9k-W2k",
        "outputId": "a74534f8-62b2-4709-dd97-4e8198885c8e"
      },
      "outputs": [
        {
          "output_type": "stream",
          "name": "stdout",
          "text": [
            "0.8461175611161308\n"
          ]
        }
      ],
      "source": [
        "print(roc_auc_score(y_test, clf_gbt_under_preds))"
      ]
    },
    {
      "cell_type": "markdown",
      "metadata": {
        "id": "sesZ5D8Q-W2l"
      },
      "source": [
        "# Model Evaluation and Implementation"
      ]
    },
    {
      "cell_type": "code",
      "execution_count": 92,
      "metadata": {
        "id": "87HmPhCe-W2l"
      },
      "outputs": [],
      "source": [
        "d = {'prob_default': gbt_proba[:,1], 'loan_status': clf_gbt_under_preds}\n",
        "\n",
        "# Create a dataframe for the probabilities of default\n",
        "preds_df_gbt = pd.DataFrame(data = d)"
      ]
    },
    {
      "cell_type": "code",
      "execution_count": 93,
      "metadata": {
        "colab": {
          "base_uri": "https://localhost:8080/"
        },
        "id": "7Zj2qLor-W2l",
        "outputId": "67cce5ee-510a-49e7-e6d3-9790bdb11723"
      },
      "outputs": [
        {
          "output_type": "stream",
          "name": "stdout",
          "text": [
            "              precision    recall  f1-score   support\n",
            "\n",
            " Non-Default       0.94      0.91      0.92      9198\n",
            "     Default       0.70      0.79      0.74      2586\n",
            "\n",
            "    accuracy                           0.88     11784\n",
            "   macro avg       0.82      0.85      0.83     11784\n",
            "weighted avg       0.89      0.88      0.88     11784\n",
            "\n"
          ]
        }
      ],
      "source": [
        "# Print the gradient boosted tree classification report\n",
        "print(classification_report(y_test, preds_df_gbt['loan_status'], target_names=target_names))"
      ]
    },
    {
      "cell_type": "code",
      "execution_count": 94,
      "metadata": {
        "colab": {
          "base_uri": "https://localhost:8080/"
        },
        "id": "4PtbmaUf-W2m",
        "outputId": "a8656813-c0d3-4f47-f007-696eda9c4587"
      },
      "outputs": [
        {
          "output_type": "stream",
          "name": "stdout",
          "text": [
            "0.8312050423340023\n"
          ]
        }
      ],
      "source": [
        "# Print the default F-1 scores for the gradient boosted tree\n",
        "print(precision_recall_fscore_support(y_test,preds_df_gbt['loan_status'], average = 'macro')[2])"
      ]
    },
    {
      "cell_type": "markdown",
      "metadata": {
        "id": "fME8BJK7-W2m"
      },
      "source": [
        "### ROC AUC"
      ]
    },
    {
      "cell_type": "code",
      "execution_count": 95,
      "metadata": {
        "id": "iBi_s44b-W2m"
      },
      "outputs": [],
      "source": [
        "fallout_gbt, sensitivity_gbt, thresholds_gbt = roc_curve(y_test, preds_df_gbt['prob_default'])\n",
        "\n",
        "# in roc_curve() we put an array/series of probabilities not a multi column df"
      ]
    },
    {
      "cell_type": "code",
      "execution_count": 96,
      "metadata": {
        "colab": {
          "base_uri": "https://localhost:8080/",
          "height": 295
        },
        "id": "uWfr3HOx-W2m",
        "outputId": "5d520c8e-8283-497a-f2b2-7a7381e39aec"
      },
      "outputs": [
        {
          "output_type": "display_data",
          "data": {
            "text/plain": [
              "<Figure size 432x288 with 1 Axes>"
            ],
            "image/png": "[encoded data removed]"
          },
          "metadata": {
            "needs_background": "light"
          }
        }
      ],
      "source": [
        "plt.plot(fallout_gbt, sensitivity_gbt, color = 'green', label='%s' % 'GBT')\n",
        "plt.plot([0, 1], [0, 1], linestyle='--', label='%s' % 'Random Prediction')\n",
        "plt.title(\"ROC Chart for GBT on the Probability of Default\")\n",
        "plt.xlabel('Fall-out')\n",
        "plt.ylabel('Sensitivity')\n",
        "plt.legend()\n",
        "plt.show()"
      ]
    },
    {
      "cell_type": "code",
      "execution_count": 97,
      "metadata": {
        "colab": {
          "base_uri": "https://localhost:8080/"
        },
        "id": "UEbeNW0y-W2m",
        "outputId": "696c3772-ae60-45da-dfd5-d3830a833ab9"
      },
      "outputs": [
        {
          "output_type": "stream",
          "name": "stdout",
          "text": [
            "Gradient Boosted Tree AUC Score: 0.93\n"
          ]
        }
      ],
      "source": [
        "print(\"Gradient Boosted Tree AUC Score: %0.2f\" % roc_auc_score(y_test, preds_df_gbt['prob_default']))"
      ]
    },
    {
      "cell_type": "markdown",
      "metadata": {
        "id": "IUPp5q-a-W2m"
      },
      "source": [
        "### Model Calibration"
      ]
    },
    {
      "cell_type": "code",
      "execution_count": 98,
      "metadata": {
        "id": "uq_whTyv-W2n"
      },
      "outputs": [],
      "source": [
        "from sklearn.calibration import calibration_curve\n",
        "\n",
        "curve = calibration_curve(y_test, gbt_proba[:,1], n_bins = 20)\n"
      ]
    },
    {
      "cell_type": "code",
      "execution_count": 99,
      "metadata": {
        "colab": {
          "base_uri": "https://localhost:8080/"
        },
        "id": "V23AHWIM-W2n",
        "outputId": "8a7f72fe-8c19-446a-c855-2385e3dd1cd7"
      },
      "outputs": [
        {
          "output_type": "execute_result",
          "data": {
            "text/plain": [
              "(array([6.60938533e-04, 8.05729633e-03, 4.04411765e-02, 5.35168196e-02,\n",
              "        7.33519034e-02, 1.08367627e-01, 1.13513514e-01, 1.04330709e-01,\n",
              "        2.17054264e-01, 1.79012346e-01, 2.28571429e-01, 1.87500000e-01,\n",
              "        3.19444444e-01, 2.67379679e-01, 3.53658537e-01, 3.68131868e-01,\n",
              "        6.51685393e-01, 8.78048780e-01, 1.00000000e+00, 1.00000000e+00]),\n",
              " array([0.02505157, 0.07632592, 0.12487639, 0.17537217, 0.22279809,\n",
              "        0.27219108, 0.32494317, 0.37230928, 0.42381265, 0.47482373,\n",
              "        0.52523782, 0.57257501, 0.6262004 , 0.67538519, 0.7253423 ,\n",
              "        0.77416599, 0.82703586, 0.87515   , 0.93173015, 0.97554557]))"
            ]
          },
          "metadata": {},
          "execution_count": 99
        }
      ],
      "source": [
        "curve"
      ]
    },
    {
      "cell_type": "code",
      "source": [
        "frac_of_pos_gbt = curve[0]\n",
        "mean_pred_val_gbt = curve[1]"
      ],
      "metadata": {
        "id": "G3X1dMyb1pZc"
      },
      "execution_count": 100,
      "outputs": []
    },
    {
      "cell_type": "code",
      "execution_count": 101,
      "metadata": {
        "colab": {
          "base_uri": "https://localhost:8080/",
          "height": 295
        },
        "id": "NJK4Dttc-W2n",
        "outputId": "5caa8d38-0d41-4814-a0e1-863575ca36ca"
      },
      "outputs": [
        {
          "output_type": "display_data",
          "data": {
            "text/plain": [
              "<Figure size 432x288 with 1 Axes>"
            ],
            "image/png": "[encoded data removed]"
          },
          "metadata": {
            "needs_background": "light"
          }
        }
      ],
      "source": [
        "# Add the calibration curve for the gradient boosted tree\n",
        "plt.plot([0, 1], [0, 1], 'k:', label='Perfectly calibrated')    \n",
        "plt.plot(mean_pred_val_gbt, frac_of_pos_gbt,\n",
        "         's-', label='%s' % 'Gradient Boosted Tree')\n",
        "plt.ylabel('Fraction of positives')\n",
        "plt.xlabel('Average Predicted Probability')\n",
        "plt.legend()\n",
        "plt.title('Calibration Curve')\n",
        "plt.show()"
      ]
    },
    {
      "cell_type": "markdown",
      "metadata": {
        "id": "8enqzV5b-W2o"
      },
      "source": [
        "### Deciding on a Threshold"
      ]
    },
    {
      "cell_type": "code",
      "execution_count": 102,
      "metadata": {
        "colab": {
          "base_uri": "https://localhost:8080/"
        },
        "id": "RIaMhKyE-W2o",
        "outputId": "46bdd658-cefa-4dda-ebf6-250f0174ca7f"
      },
      "outputs": [
        {
          "output_type": "stream",
          "name": "stdout",
          "text": [
            "count    11784.000000\n",
            "mean         0.344643\n",
            "std          0.308715\n",
            "min          0.001566\n",
            "25%          0.111237\n",
            "50%          0.223992\n",
            "75%          0.493205\n",
            "max          0.999629\n",
            "Name: prob_default, dtype: float64\n"
          ]
        }
      ],
      "source": [
        "print(preds_df_gbt['prob_default'].describe())"
      ]
    },
    {
      "cell_type": "code",
      "execution_count": 103,
      "metadata": {
        "id": "ikpC9Rje-W2p"
      },
      "outputs": [],
      "source": [
        "threshold_85 = np.quantile(preds_df_gbt['prob_default'], 0.85)"
      ]
    },
    {
      "cell_type": "code",
      "execution_count": 104,
      "metadata": {
        "colab": {
          "base_uri": "https://localhost:8080/"
        },
        "id": "hCK-H_rm-W2p",
        "outputId": "d190fe87-c0a2-4012-905b-b5d13ff17205"
      },
      "outputs": [
        {
          "output_type": "stream",
          "name": "stdout",
          "text": [
            "0.8197291404008865\n"
          ]
        }
      ],
      "source": [
        "print(threshold_85)"
      ]
    },
    {
      "cell_type": "code",
      "execution_count": 105,
      "metadata": {
        "id": "Fxcohy4u-W2q"
      },
      "outputs": [],
      "source": [
        "preds_df_gbt['pred_loan_status'] = preds_df_gbt['prob_default'].apply(lambda x: 1 if x > threshold_85 else 0)"
      ]
    },
    {
      "cell_type": "code",
      "execution_count": 106,
      "metadata": {
        "colab": {
          "base_uri": "https://localhost:8080/"
        },
        "id": "e0fEdk1m-W2q",
        "outputId": "3743c98a-0334-4abe-f07e-479c22e7ad95"
      },
      "outputs": [
        {
          "output_type": "stream",
          "name": "stdout",
          "text": [
            "0    10016\n",
            "1     1768\n",
            "Name: pred_loan_status, dtype: int64\n"
          ]
        }
      ],
      "source": [
        "print(preds_df_gbt['pred_loan_status'].value_counts())"
      ]
    },
    {
      "cell_type": "code",
      "execution_count": 107,
      "metadata": {
        "colab": {
          "base_uri": "https://localhost:8080/",
          "height": 265
        },
        "id": "DWG2GSTD-W2q",
        "outputId": "3fa0bcc0-77fb-4879-cb0f-3a4b8a911b5c"
      },
      "outputs": [
        {
          "output_type": "display_data",
          "data": {
            "text/plain": [
              "<Figure size 432x288 with 1 Axes>"
            ],
            "image/png": "[encoded data removed]"
          },
          "metadata": {
            "needs_background": "light"
          }
        }
      ],
      "source": [
        "# Plot the predicted probabilities of default\n",
        "plt.hist(preds_df_gbt['prob_default'], color = 'blue', bins = 40)\n",
        "\n",
        "# Calculate the threshold with quantile\n",
        "threshold = np.quantile(preds_df_gbt['prob_default'], 0.85)\n",
        "\n",
        "# Add a reference line to the plot for the threshold\n",
        "plt.axvline(x = threshold, color = 'red')\n",
        "plt.show()"
      ]
    },
    {
      "cell_type": "code",
      "execution_count": 108,
      "metadata": {
        "colab": {
          "base_uri": "https://localhost:8080/"
        },
        "id": "974HVu2C-W2r",
        "outputId": "3dbdb469-8def-40a6-9972-5f220d7cf924"
      },
      "outputs": [
        {
          "output_type": "stream",
          "name": "stdout",
          "text": [
            "0.1136182108626198\n"
          ]
        }
      ],
      "source": [
        "# Create a subset of only accepted loans\n",
        "accepted_loans = preds_df_gbt[preds_df_gbt['pred_loan_status'] == 0]\n",
        "\n",
        "# Calculate the bad rate\n",
        "print(np.sum(accepted_loans['loan_status']) / accepted_loans['loan_status'].count())"
      ]
    },
    {
      "cell_type": "code",
      "execution_count": 109,
      "metadata": {
        "id": "ZJFwRUnt-W2r"
      },
      "outputs": [],
      "source": [
        "preds_df_gbt_amnt = pd.concat([preds_df_gbt, X_test['loan_amnt'].reset_index(drop = True)],axis =1)"
      ]
    },
    {
      "cell_type": "code",
      "execution_count": 110,
      "metadata": {
        "colab": {
          "base_uri": "https://localhost:8080/"
        },
        "id": "zUGasWLc-W2r",
        "outputId": "5d127be6-1967-4ae9-b745-a69a170e3c5f"
      },
      "outputs": [
        {
          "output_type": "stream",
          "name": "stdout",
          "text": [
            "pred_loan_status              0              1\n",
            "loan_status                                   \n",
            "0                $84,840,688.86          $0.00\n",
            "1                $10,875,051.13 $16,895,510.01\n"
          ]
        }
      ],
      "source": [
        "# BAD RATE IMPACT\n",
        "avg_loan = np.mean(preds_df_gbt_amnt['loan_amnt'])\n",
        "\n",
        "pd.options.display.float_format = '${:,.2f}'.format\n",
        "print(pd.crosstab(preds_df_gbt_amnt['loan_status'],\n",
        "                 preds_df_gbt_amnt['pred_loan_status']).apply(lambda x: x * avg_loan, axis = 0))"
      ]
    },
    {
      "cell_type": "markdown",
      "metadata": {
        "id": "ictA9N6n-W2r"
      },
      "source": [
        "### CREDIT STRATEGY"
      ]
    },
    {
      "cell_type": "code",
      "execution_count": 111,
      "metadata": {
        "id": "V1_CzYYH-W2s"
      },
      "outputs": [],
      "source": [
        "accept_rates = [1.0, 0.95, 0.9, 0.85, 0.8, 0.75, 0.7, 0.65, 0.6, 0.55, 0.5, 0.45, 0.4, 0.35, 0.3, 0.25, 0.2, 0.15, 0.1,0.05]\n",
        "thresholds = []\n",
        "bad_rates = []\n",
        "num_accepted_loans = []"
      ]
    },
    {
      "cell_type": "code",
      "execution_count": 112,
      "metadata": {
        "id": "0a8qhqsF-W2s"
      },
      "outputs": [],
      "source": [
        "for rate in accept_rates:\n",
        "    # Calculate the threshold for the acceptance rate\n",
        "    thresh = np.quantile(preds_df_gbt_amnt['prob_default'], rate).round(3)\n",
        "    # Add the threshold value to the list of thresholds\n",
        "    thresholds.append(np.quantile(preds_df_gbt_amnt['prob_default'], rate).round(3))\n",
        "    # Reassign the loan_status value using the threshold\n",
        "    preds_df_gbt_amnt['pred_loan_status'] = preds_df_gbt_amnt['prob_default'].apply(lambda x: 1 if x > thresh else 0)\n",
        "    # Create a set of accepted loans using this acceptance rate\n",
        "    accepted_loans = preds_df_gbt_amnt[preds_df_gbt_amnt['pred_loan_status'] == 0]\n",
        "    # Calculate and append the bad rate using the acceptance rate\n",
        "    bad_rates.append(np.sum((accepted_loans['loan_status']) / len(accepted_loans['loan_status'])).round(3))\n",
        "    #Calculate and append number of loans accepted for given threshold\n",
        "    num_accepted_loans.append(len(preds_df_gbt_amnt[preds_df_gbt_amnt['prob_default'] < thresh]))"
      ]
    },
    {
      "cell_type": "code",
      "execution_count": 113,
      "metadata": {
        "id": "kZ_cTWbZ-W2s"
      },
      "outputs": [],
      "source": [
        "pd.options.display.float_format = '{:,.3f}'.format"
      ]
    },
    {
      "cell_type": "code",
      "execution_count": 114,
      "metadata": {
        "colab": {
          "base_uri": "https://localhost:8080/"
        },
        "id": "WtI01-ev-W2t",
        "outputId": "f78aba46-c727-4d3f-a1ba-9cac4d177eac"
      },
      "outputs": [
        {
          "output_type": "stream",
          "name": "stdout",
          "text": [
            "    Acceptance Rate  Threshold  Bad Rate\n",
            "0             1.000      1.000     0.247\n",
            "1             0.950      0.973     0.207\n",
            "2             0.900      0.936     0.163\n",
            "3             0.850      0.820     0.114\n",
            "4             0.800      0.659     0.058\n",
            "5             0.750      0.493     0.000\n",
            "6             0.700      0.409     0.000\n",
            "7             0.650      0.350     0.000\n",
            "8             0.600      0.295     0.000\n",
            "9             0.550      0.257     0.000\n",
            "10            0.500      0.224     0.000\n",
            "11            0.450      0.200     0.000\n",
            "12            0.400      0.179     0.000\n",
            "13            0.350      0.155     0.000\n",
            "14            0.300      0.133     0.000\n",
            "15            0.250      0.111     0.000\n",
            "16            0.200      0.090     0.000\n",
            "17            0.150      0.062     0.000\n",
            "18            0.100      0.038     0.000\n",
            "19            0.050      0.019     0.000\n"
          ]
        }
      ],
      "source": [
        "# Create a data frame of the strategy table\n",
        "strat_df = pd.DataFrame(zip(accept_rates, thresholds, bad_rates, ),\n",
        "                        columns = ['Acceptance Rate','Threshold','Bad Rate'])\n",
        "\n",
        "# Print the entire table\n",
        "print(strat_df)"
      ]
    },
    {
      "cell_type": "code",
      "execution_count": 115,
      "metadata": {
        "colab": {
          "base_uri": "https://localhost:8080/",
          "height": 384
        },
        "id": "e4bxZzd3-W2t",
        "outputId": "da9cf9a1-f960-4dc1-abb4-3154fb1ca8f7"
      },
      "outputs": [
        {
          "output_type": "stream",
          "name": "stderr",
          "text": [
            "/usr/local/lib/python3.7/dist-packages/ipykernel_launcher.py:6: MatplotlibDeprecationWarning: Adding an axes using the same arguments as a previous axes currently reuses the earlier instance.  In a future version, a new instance will always be created and returned.  Meanwhile, this warning can be suppressed, and the future behavior ensured, by passing a unique label to each axes instance.\n",
            "  \n",
            "/usr/local/lib/python3.7/dist-packages/ipykernel_launcher.py:7: MatplotlibDeprecationWarning: Adding an axes using the same arguments as a previous axes currently reuses the earlier instance.  In a future version, a new instance will always be created and returned.  Meanwhile, this warning can be suppressed, and the future behavior ensured, by passing a unique label to each axes instance.\n",
            "  import sys\n"
          ]
        },
        {
          "output_type": "display_data",
          "data": {
            "text/plain": [
              "<Figure size 432x288 with 1 Axes>"
            ],
            "image/png": "[encoded data removed]"
          },
          "metadata": {
            "needs_background": "light"
          }
        }
      ],
      "source": [
        "# Plot the strategy curve\n",
        "plt.plot(strat_df['Acceptance Rate'], strat_df['Bad Rate'])\n",
        "plt.xlabel('Acceptance Rate')\n",
        "plt.ylabel('Bad Rate')\n",
        "plt.title('Acceptance and Bad Rates')\n",
        "plt.axes().yaxis.grid()\n",
        "plt.axes().xaxis.grid()\n",
        "plt.show()"
      ]
    },
    {
      "cell_type": "code",
      "execution_count": 116,
      "metadata": {
        "id": "bi2Rkl61-W2t"
      },
      "outputs": [],
      "source": [
        "num_loans_df = pd.DataFrame(num_accepted_loans, columns = ['num_accepted_loans'])"
      ]
    },
    {
      "cell_type": "code",
      "execution_count": 117,
      "metadata": {
        "colab": {
          "base_uri": "https://localhost:8080/",
          "height": 206
        },
        "id": "yeCA5gBX-W2t",
        "outputId": "9d4f9bd8-0e03-4a74-c8e3-f43a0a81af1b"
      },
      "outputs": [
        {
          "output_type": "execute_result",
          "data": {
            "text/plain": [
              "   num_accepted_loans\n",
              "0               11784\n",
              "1               11198\n",
              "2               10604\n",
              "3               10018\n",
              "4                9428"
            ],
            "text/html": [
              "\n",
              "  <div id=\"df-7a7fcb45-6562-45ea-8f11-12b310e0f56f\">\n",
              "    <div class=\"colab-df-container\">\n",
              "      <div>\n",
              "<style scoped>\n",
              "    .dataframe tbody tr th:only-of-type {\n",
              "        vertical-align: middle;\n",
              "    }\n",
              "\n",
              "    .dataframe tbody tr th {\n",
              "        vertical-align: top;\n",
              "    }\n",
              "\n",
              "    .dataframe thead th {\n",
              "        text-align: right;\n",
              "    }\n",
              "</style>\n",
              "<table border=\"1\" class=\"dataframe\">\n",
              "  <thead>\n",
              "    <tr style=\"text-align: right;\">\n",
              "      <th></th>\n",
              "      <th>num_accepted_loans</th>\n",
              "    </tr>\n",
              "  </thead>\n",
              "  <tbody>\n",
              "    <tr>\n",
              "      <th>0</th>\n",
              "      <td>11784</td>\n",
              "    </tr>\n",
              "    <tr>\n",
              "      <th>1</th>\n",
              "      <td>11198</td>\n",
              "    </tr>\n",
              "    <tr>\n",
              "      <th>2</th>\n",
              "      <td>10604</td>\n",
              "    </tr>\n",
              "    <tr>\n",
              "      <th>3</th>\n",
              "      <td>10018</td>\n",
              "    </tr>\n",
              "    <tr>\n",
              "      <th>4</th>\n",
              "      <td>9428</td>\n",
              "    </tr>\n",
              "  </tbody>\n",
              "</table>\n",
              "</div>\n",
              "      <button class=\"colab-df-convert\" onclick=\"convertToInteractive('df-7a7fcb45-6562-45ea-8f11-12b310e0f56f')\"\n",
              "              title=\"Convert this dataframe to an interactive table.\"\n",
              "              style=\"display:none;\">\n",
              "        \n",
              "  <svg xmlns=\"http://www.w3.org/2000/svg\" height=\"24px\"viewBox=\"0 0 24 24\"\n",
              "       width=\"24px\">\n",
              "    <path d=\"M0 0h24v24H0V0z\" fill=\"none\"/>\n",
              "    <path d=\"M18.56 5.44l.94 2.06.94-2.06 2.06-.94-2.06-.94-.94-2.06-.94 2.06-2.06.94zm-11 1L8.5 8.5l.94-2.06 2.06-.94-2.06-.94L8.5 2.5l-.94 2.06-2.06.94zm10 10l.94 2.06.94-2.06 2.06-.94-2.06-.94-.94-2.06-.94 2.06-2.06.94z\"/><path d=\"M17.41 7.96l-1.37-1.37c-.4-.4-.92-.59-1.43-.59-.52 0-1.04.2-1.43.59L10.3 9.45l-7.72 7.72c-.78.78-.78 2.05 0 2.83L4 21.41c.39.39.9.59 1.41.59.51 0 1.02-.2 1.41-.59l7.78-7.78 2.81-2.81c.8-.78.8-2.07 0-2.86zM5.41 20L4 18.59l7.72-7.72 1.47 1.35L5.41 20z\"/>\n",
              "  </svg>\n",
              "      </button>\n",
              "      \n",
              "  <style>\n",
              "    .colab-df-container {\n",
              "      display:flex;\n",
              "      flex-wrap:wrap;\n",
              "      gap: 12px;\n",
              "    }\n",
              "\n",
              "    .colab-df-convert {\n",
              "      background-color: #E8F0FE;\n",
              "      border: none;\n",
              "      border-radius: 50%;\n",
              "      cursor: pointer;\n",
              "      display: none;\n",
              "      fill: #1967D2;\n",
              "      height: 32px;\n",
              "      padding: 0 0 0 0;\n",
              "      width: 32px;\n",
              "    }\n",
              "\n",
              "    .colab-df-convert:hover {\n",
              "      background-color: #E2EBFA;\n",
              "      box-shadow: 0px 1px 2px rgba(60, 64, 67, 0.3), 0px 1px 3px 1px rgba(60, 64, 67, 0.15);\n",
              "      fill: #174EA6;\n",
              "    }\n",
              "\n",
              "    [theme=dark] .colab-df-convert {\n",
              "      background-color: #3B4455;\n",
              "      fill: #D2E3FC;\n",
              "    }\n",
              "\n",
              "    [theme=dark] .colab-df-convert:hover {\n",
              "      background-color: #434B5C;\n",
              "      box-shadow: 0px 1px 3px 1px rgba(0, 0, 0, 0.15);\n",
              "      filter: drop-shadow(0px 1px 2px rgba(0, 0, 0, 0.3));\n",
              "      fill: #FFFFFF;\n",
              "    }\n",
              "  </style>\n",
              "\n",
              "      <script>\n",
              "        const buttonEl =\n",
              "          document.querySelector('#df-7a7fcb45-6562-45ea-8f11-12b310e0f56f button.colab-df-convert');\n",
              "        buttonEl.style.display =\n",
              "          google.colab.kernel.accessAllowed ? 'block' : 'none';\n",
              "\n",
              "        async function convertToInteractive(key) {\n",
              "          const element = document.querySelector('#df-7a7fcb45-6562-45ea-8f11-12b310e0f56f');\n",
              "          const dataTable =\n",
              "            await google.colab.kernel.invokeFunction('convertToInteractive',\n",
              "                                                     [key], {});\n",
              "          if (!dataTable) return;\n",
              "\n",
              "          const docLinkHtml = 'Like what you see? Visit the ' +\n",
              "            '<a target=\"_blank\" href=https://colab.research.google.com/notebooks/data_table.ipynb>data table notebook</a>'\n",
              "            + ' to learn more about interactive tables.';\n",
              "          element.innerHTML = '';\n",
              "          dataTable['output_type'] = 'display_data';\n",
              "          await google.colab.output.renderOutput(dataTable, element);\n",
              "          const docLink = document.createElement('div');\n",
              "          docLink.innerHTML = docLinkHtml;\n",
              "          element.appendChild(docLink);\n",
              "        }\n",
              "      </script>\n",
              "    </div>\n",
              "  </div>\n",
              "  "
            ]
          },
          "metadata": {},
          "execution_count": 117
        }
      ],
      "source": [
        "num_loans_df.head()"
      ]
    },
    {
      "cell_type": "code",
      "execution_count": 118,
      "metadata": {
        "scrolled": true,
        "id": "Y8esNIrQ-W2u"
      },
      "outputs": [],
      "source": [
        "strat_df = pd.concat([strat_df, num_loans_df], axis = 1)"
      ]
    },
    {
      "cell_type": "code",
      "execution_count": 119,
      "metadata": {
        "id": "Fy8A9WJ2-W2u"
      },
      "outputs": [],
      "source": [
        "strat_df['Avg_loan_amnt'] = np.mean(preds_df_gbt_amnt['loan_amnt'])"
      ]
    },
    {
      "cell_type": "code",
      "execution_count": 120,
      "metadata": {
        "id": "9zv_ufSn-W2u"
      },
      "outputs": [],
      "source": [
        "strat_df['Estimated_Value'] = (strat_df['num_accepted_loans'] * (1 - strat_df['Bad Rate']) * strat_df['Avg_loan_amnt']) - (strat_df['num_accepted_loans'] * strat_df['Bad Rate'] * strat_df['Avg_loan_amnt'])"
      ]
    },
    {
      "cell_type": "code",
      "execution_count": 121,
      "metadata": {
        "scrolled": true,
        "colab": {
          "base_uri": "https://localhost:8080/",
          "height": 676
        },
        "id": "NscxSrKn-W2u",
        "outputId": "4ed92c41-90c4-4df7-a72f-e87b47872dc5"
      },
      "outputs": [
        {
          "output_type": "execute_result",
          "data": {
            "text/plain": [
              "    Acceptance Rate  Threshold  Bad Rate  num_accepted_loans  Avg_loan_amnt  \\\n",
              "0             1.000      1.000     0.247               11784      9,556.284   \n",
              "1             0.950      0.973     0.207               11198      9,556.284   \n",
              "2             0.900      0.936     0.163               10604      9,556.284   \n",
              "3             0.850      0.820     0.114               10018      9,556.284   \n",
              "4             0.800      0.659     0.058                9428      9,556.284   \n",
              "5             0.750      0.493     0.000                8834      9,556.284   \n",
              "6             0.700      0.409     0.000                8244      9,556.284   \n",
              "7             0.650      0.350     0.000                7659      9,556.284   \n",
              "8             0.600      0.295     0.000                7069      9,556.284   \n",
              "9             0.550      0.257     0.000                6480      9,556.284   \n",
              "10            0.500      0.224     0.000                5896      9,556.284   \n",
              "11            0.450      0.200     0.000                5298      9,556.284   \n",
              "12            0.400      0.179     0.000                4711      9,556.284   \n",
              "13            0.350      0.155     0.000                4124      9,556.284   \n",
              "14            0.300      0.133     0.000                3536      9,556.284   \n",
              "15            0.250      0.111     0.000                2942      9,556.284   \n",
              "16            0.200      0.090     0.000                2367      9,556.284   \n",
              "17            0.150      0.062     0.000                1762      9,556.284   \n",
              "18            0.100      0.038     0.000                1181      9,556.284   \n",
              "19            0.050      0.019     0.000                 580      9,556.284   \n",
              "\n",
              "    Estimated_Value  \n",
              "0    56,981,292.500  \n",
              "1    62,708,602.819  \n",
              "2    68,299,678.753  \n",
              "3    73,907,306.172  \n",
              "4    79,645,434.204  \n",
              "5    84,420,212.364  \n",
              "6    78,782,004.837  \n",
              "7    73,191,578.730  \n",
              "8    67,553,371.202  \n",
              "9    61,924,719.959  \n",
              "10   56,343,850.136  \n",
              "11   50,629,192.337  \n",
              "12   45,019,653.662  \n",
              "13   39,410,114.986  \n",
              "14   33,791,020.027  \n",
              "15   28,114,587.364  \n",
              "16   22,619,724.096  \n",
              "17   16,838,172.310  \n",
              "18   11,285,971.338  \n",
              "19    5,542,644.688  "
            ],
            "text/html": [
              "\n",
              "  <div id=\"df-9097a60c-3991-4c24-bdef-7309aa731868\">\n",
              "    <div class=\"colab-df-container\">\n",
              "      <div>\n",
              "<style scoped>\n",
              "    .dataframe tbody tr th:only-of-type {\n",
              "        vertical-align: middle;\n",
              "    }\n",
              "\n",
              "    .dataframe tbody tr th {\n",
              "        vertical-align: top;\n",
              "    }\n",
              "\n",
              "    .dataframe thead th {\n",
              "        text-align: right;\n",
              "    }\n",
              "</style>\n",
              "<table border=\"1\" class=\"dataframe\">\n",
              "  <thead>\n",
              "    <tr style=\"text-align: right;\">\n",
              "      <th></th>\n",
              "      <th>Acceptance Rate</th>\n",
              "      <th>Threshold</th>\n",
              "      <th>Bad Rate</th>\n",
              "      <th>num_accepted_loans</th>\n",
              "      <th>Avg_loan_amnt</th>\n",
              "      <th>Estimated_Value</th>\n",
              "    </tr>\n",
              "  </thead>\n",
              "  <tbody>\n",
              "    <tr>\n",
              "      <th>0</th>\n",
              "      <td>1.000</td>\n",
              "      <td>1.000</td>\n",
              "      <td>0.247</td>\n",
              "      <td>11784</td>\n",
              "      <td>9,556.284</td>\n",
              "      <td>56,981,292.500</td>\n",
              "    </tr>\n",
              "    <tr>\n",
              "      <th>1</th>\n",
              "      <td>0.950</td>\n",
              "      <td>0.973</td>\n",
              "      <td>0.207</td>\n",
              "      <td>11198</td>\n",
              "      <td>9,556.284</td>\n",
              "      <td>62,708,602.819</td>\n",
              "    </tr>\n",
              "    <tr>\n",
              "      <th>2</th>\n",
              "      <td>0.900</td>\n",
              "      <td>0.936</td>\n",
              "      <td>0.163</td>\n",
              "      <td>10604</td>\n",
              "      <td>9,556.284</td>\n",
              "      <td>68,299,678.753</td>\n",
              "    </tr>\n",
              "    <tr>\n",
              "      <th>3</th>\n",
              "      <td>0.850</td>\n",
              "      <td>0.820</td>\n",
              "      <td>0.114</td>\n",
              "      <td>10018</td>\n",
              "      <td>9,556.284</td>\n",
              "      <td>73,907,306.172</td>\n",
              "    </tr>\n",
              "    <tr>\n",
              "      <th>4</th>\n",
              "      <td>0.800</td>\n",
              "      <td>0.659</td>\n",
              "      <td>0.058</td>\n",
              "      <td>9428</td>\n",
              "      <td>9,556.284</td>\n",
              "      <td>79,645,434.204</td>\n",
              "    </tr>\n",
              "    <tr>\n",
              "      <th>5</th>\n",
              "      <td>0.750</td>\n",
              "      <td>0.493</td>\n",
              "      <td>0.000</td>\n",
              "      <td>8834</td>\n",
              "      <td>9,556.284</td>\n",
              "      <td>84,420,212.364</td>\n",
              "    </tr>\n",
              "    <tr>\n",
              "      <th>6</th>\n",
              "      <td>0.700</td>\n",
              "      <td>0.409</td>\n",
              "      <td>0.000</td>\n",
              "      <td>8244</td>\n",
              "      <td>9,556.284</td>\n",
              "      <td>78,782,004.837</td>\n",
              "    </tr>\n",
              "    <tr>\n",
              "      <th>7</th>\n",
              "      <td>0.650</td>\n",
              "      <td>0.350</td>\n",
              "      <td>0.000</td>\n",
              "      <td>7659</td>\n",
              "      <td>9,556.284</td>\n",
              "      <td>73,191,578.730</td>\n",
              "    </tr>\n",
              "    <tr>\n",
              "      <th>8</th>\n",
              "      <td>0.600</td>\n",
              "      <td>0.295</td>\n",
              "      <td>0.000</td>\n",
              "      <td>7069</td>\n",
              "      <td>9,556.284</td>\n",
              "      <td>67,553,371.202</td>\n",
              "    </tr>\n",
              "    <tr>\n",
              "      <th>9</th>\n",
              "      <td>0.550</td>\n",
              "      <td>0.257</td>\n",
              "      <td>0.000</td>\n",
              "      <td>6480</td>\n",
              "      <td>9,556.284</td>\n",
              "      <td>61,924,719.959</td>\n",
              "    </tr>\n",
              "    <tr>\n",
              "      <th>10</th>\n",
              "      <td>0.500</td>\n",
              "      <td>0.224</td>\n",
              "      <td>0.000</td>\n",
              "      <td>5896</td>\n",
              "      <td>9,556.284</td>\n",
              "      <td>56,343,850.136</td>\n",
              "    </tr>\n",
              "    <tr>\n",
              "      <th>11</th>\n",
              "      <td>0.450</td>\n",
              "      <td>0.200</td>\n",
              "      <td>0.000</td>\n",
              "      <td>5298</td>\n",
              "      <td>9,556.284</td>\n",
              "      <td>50,629,192.337</td>\n",
              "    </tr>\n",
              "    <tr>\n",
              "      <th>12</th>\n",
              "      <td>0.400</td>\n",
              "      <td>0.179</td>\n",
              "      <td>0.000</td>\n",
              "      <td>4711</td>\n",
              "      <td>9,556.284</td>\n",
              "      <td>45,019,653.662</td>\n",
              "    </tr>\n",
              "    <tr>\n",
              "      <th>13</th>\n",
              "      <td>0.350</td>\n",
              "      <td>0.155</td>\n",
              "      <td>0.000</td>\n",
              "      <td>4124</td>\n",
              "      <td>9,556.284</td>\n",
              "      <td>39,410,114.986</td>\n",
              "    </tr>\n",
              "    <tr>\n",
              "      <th>14</th>\n",
              "      <td>0.300</td>\n",
              "      <td>0.133</td>\n",
              "      <td>0.000</td>\n",
              "      <td>3536</td>\n",
              "      <td>9,556.284</td>\n",
              "      <td>33,791,020.027</td>\n",
              "    </tr>\n",
              "    <tr>\n",
              "      <th>15</th>\n",
              "      <td>0.250</td>\n",
              "      <td>0.111</td>\n",
              "      <td>0.000</td>\n",
              "      <td>2942</td>\n",
              "      <td>9,556.284</td>\n",
              "      <td>28,114,587.364</td>\n",
              "    </tr>\n",
              "    <tr>\n",
              "      <th>16</th>\n",
              "      <td>0.200</td>\n",
              "      <td>0.090</td>\n",
              "      <td>0.000</td>\n",
              "      <td>2367</td>\n",
              "      <td>9,556.284</td>\n",
              "      <td>22,619,724.096</td>\n",
              "    </tr>\n",
              "    <tr>\n",
              "      <th>17</th>\n",
              "      <td>0.150</td>\n",
              "      <td>0.062</td>\n",
              "      <td>0.000</td>\n",
              "      <td>1762</td>\n",
              "      <td>9,556.284</td>\n",
              "      <td>16,838,172.310</td>\n",
              "    </tr>\n",
              "    <tr>\n",
              "      <th>18</th>\n",
              "      <td>0.100</td>\n",
              "      <td>0.038</td>\n",
              "      <td>0.000</td>\n",
              "      <td>1181</td>\n",
              "      <td>9,556.284</td>\n",
              "      <td>11,285,971.338</td>\n",
              "    </tr>\n",
              "    <tr>\n",
              "      <th>19</th>\n",
              "      <td>0.050</td>\n",
              "      <td>0.019</td>\n",
              "      <td>0.000</td>\n",
              "      <td>580</td>\n",
              "      <td>9,556.284</td>\n",
              "      <td>5,542,644.688</td>\n",
              "    </tr>\n",
              "  </tbody>\n",
              "</table>\n",
              "</div>\n",
              "      <button class=\"colab-df-convert\" onclick=\"convertToInteractive('df-9097a60c-3991-4c24-bdef-7309aa731868')\"\n",
              "              title=\"Convert this dataframe to an interactive table.\"\n",
              "              style=\"display:none;\">\n",
              "        \n",
              "  <svg xmlns=\"http://www.w3.org/2000/svg\" height=\"24px\"viewBox=\"0 0 24 24\"\n",
              "       width=\"24px\">\n",
              "    <path d=\"M0 0h24v24H0V0z\" fill=\"none\"/>\n",
              "    <path d=\"M18.56 5.44l.94 2.06.94-2.06 2.06-.94-2.06-.94-.94-2.06-.94 2.06-2.06.94zm-11 1L8.5 8.5l.94-2.06 2.06-.94-2.06-.94L8.5 2.5l-.94 2.06-2.06.94zm10 10l.94 2.06.94-2.06 2.06-.94-2.06-.94-.94-2.06-.94 2.06-2.06.94z\"/><path d=\"M17.41 7.96l-1.37-1.37c-.4-.4-.92-.59-1.43-.59-.52 0-1.04.2-1.43.59L10.3 9.45l-7.72 7.72c-.78.78-.78 2.05 0 2.83L4 21.41c.39.39.9.59 1.41.59.51 0 1.02-.2 1.41-.59l7.78-7.78 2.81-2.81c.8-.78.8-2.07 0-2.86zM5.41 20L4 18.59l7.72-7.72 1.47 1.35L5.41 20z\"/>\n",
              "  </svg>\n",
              "      </button>\n",
              "      \n",
              "  <style>\n",
              "    .colab-df-container {\n",
              "      display:flex;\n",
              "      flex-wrap:wrap;\n",
              "      gap: 12px;\n",
              "    }\n",
              "\n",
              "    .colab-df-convert {\n",
              "      background-color: #E8F0FE;\n",
              "      border: none;\n",
              "      border-radius: 50%;\n",
              "      cursor: pointer;\n",
              "      display: none;\n",
              "      fill: #1967D2;\n",
              "      height: 32px;\n",
              "      padding: 0 0 0 0;\n",
              "      width: 32px;\n",
              "    }\n",
              "\n",
              "    .colab-df-convert:hover {\n",
              "      background-color: #E2EBFA;\n",
              "      box-shadow: 0px 1px 2px rgba(60, 64, 67, 0.3), 0px 1px 3px 1px rgba(60, 64, 67, 0.15);\n",
              "      fill: #174EA6;\n",
              "    }\n",
              "\n",
              "    [theme=dark] .colab-df-convert {\n",
              "      background-color: #3B4455;\n",
              "      fill: #D2E3FC;\n",
              "    }\n",
              "\n",
              "    [theme=dark] .colab-df-convert:hover {\n",
              "      background-color: #434B5C;\n",
              "      box-shadow: 0px 1px 3px 1px rgba(0, 0, 0, 0.15);\n",
              "      filter: drop-shadow(0px 1px 2px rgba(0, 0, 0, 0.3));\n",
              "      fill: #FFFFFF;\n",
              "    }\n",
              "  </style>\n",
              "\n",
              "      <script>\n",
              "        const buttonEl =\n",
              "          document.querySelector('#df-9097a60c-3991-4c24-bdef-7309aa731868 button.colab-df-convert');\n",
              "        buttonEl.style.display =\n",
              "          google.colab.kernel.accessAllowed ? 'block' : 'none';\n",
              "\n",
              "        async function convertToInteractive(key) {\n",
              "          const element = document.querySelector('#df-9097a60c-3991-4c24-bdef-7309aa731868');\n",
              "          const dataTable =\n",
              "            await google.colab.kernel.invokeFunction('convertToInteractive',\n",
              "                                                     [key], {});\n",
              "          if (!dataTable) return;\n",
              "\n",
              "          const docLinkHtml = 'Like what you see? Visit the ' +\n",
              "            '<a target=\"_blank\" href=https://colab.research.google.com/notebooks/data_table.ipynb>data table notebook</a>'\n",
              "            + ' to learn more about interactive tables.';\n",
              "          element.innerHTML = '';\n",
              "          dataTable['output_type'] = 'display_data';\n",
              "          await google.colab.output.renderOutput(dataTable, element);\n",
              "          const docLink = document.createElement('div');\n",
              "          docLink.innerHTML = docLinkHtml;\n",
              "          element.appendChild(docLink);\n",
              "        }\n",
              "      </script>\n",
              "    </div>\n",
              "  </div>\n",
              "  "
            ]
          },
          "metadata": {},
          "execution_count": 121
        }
      ],
      "source": [
        "strat_df"
      ]
    },
    {
      "cell_type": "code",
      "execution_count": 122,
      "metadata": {
        "colab": {
          "base_uri": "https://localhost:8080/",
          "height": 350
        },
        "id": "0w0jZK3A-W2u",
        "outputId": "02d30091-69fe-4987-dda0-aac9690d4fff"
      },
      "outputs": [
        {
          "output_type": "stream",
          "name": "stderr",
          "text": [
            "/usr/local/lib/python3.7/dist-packages/ipykernel_launcher.py:6: MatplotlibDeprecationWarning: Adding an axes using the same arguments as a previous axes currently reuses the earlier instance.  In a future version, a new instance will always be created and returned.  Meanwhile, this warning can be suppressed, and the future behavior ensured, by passing a unique label to each axes instance.\n",
            "  \n"
          ]
        },
        {
          "output_type": "display_data",
          "data": {
            "text/plain": [
              "<Figure size 432x288 with 1 Axes>"
            ],
            "image/png": "[encoded data removed]"
          },
          "metadata": {
            "needs_background": "light"
          }
        }
      ],
      "source": [
        "# Create a line plot of estimated value\n",
        "plt.plot(strat_df['Acceptance Rate'],strat_df['Estimated_Value'])\n",
        "plt.title('Estimated Value by Acceptance Rate')\n",
        "plt.xlabel('Acceptance Rate')\n",
        "plt.ylabel('Estimated Value')\n",
        "plt.axes().yaxis.grid()\n",
        "plt.show()"
      ]
    },
    {
      "cell_type": "code",
      "execution_count": 123,
      "metadata": {
        "colab": {
          "base_uri": "https://localhost:8080/"
        },
        "id": "i87TRIZC-W2v",
        "outputId": "bef63dee-ba8c-4e10-f335-618ba93f32fa"
      },
      "outputs": [
        {
          "output_type": "stream",
          "name": "stdout",
          "text": [
            "   Acceptance Rate  Threshold  Bad Rate  num_accepted_loans  Avg_loan_amnt  \\\n",
            "5            0.750      0.493     0.000                8834      9,556.284   \n",
            "\n",
            "   Estimated_Value  \n",
            "5   84,420,212.364  \n"
          ]
        }
      ],
      "source": [
        "print(strat_df.loc[strat_df['Estimated_Value'] == np.max(strat_df['Estimated_Value'])])"
      ]
    },
    {
      "cell_type": "markdown",
      "metadata": {
        "id": "vtkgkdR_-W2v"
      },
      "source": [
        "### Estimation of Expected Loss Based on 0.75 Acceptance Rate"
      ]
    },
    {
      "cell_type": "code",
      "execution_count": 124,
      "metadata": {
        "id": "rhz_E0-m-W2v"
      },
      "outputs": [],
      "source": [
        "test_preds_gbt = preds_df_gbt_amnt"
      ]
    },
    {
      "cell_type": "code",
      "execution_count": 125,
      "metadata": {
        "id": "87lltg5w-W2v"
      },
      "outputs": [],
      "source": [
        "test_preds_gbt['loss_given_default'] = 1"
      ]
    },
    {
      "cell_type": "code",
      "execution_count": 126,
      "metadata": {
        "colab": {
          "base_uri": "https://localhost:8080/"
        },
        "id": "IyeqKKI--W2v",
        "outputId": "3bfdfdb5-bea3-4e45-aff1-bfb2095f7a8e"
      },
      "outputs": [
        {
          "output_type": "stream",
          "name": "stdout",
          "text": [
            "Total expected loss:  $41,295,723.22\n"
          ]
        }
      ],
      "source": [
        "# Calculate the bank's expected loss and assign it to a new column\n",
        "test_preds_gbt['expected_loss'] = test_preds_gbt['prob_default'] * test_preds_gbt['loan_amnt'] * test_preds_gbt['loss_given_default']\n",
        "\n",
        "# Calculate the total expected loss to two decimal places\n",
        "tot_exp_loss = round(np.sum(test_preds_gbt['expected_loss']),2)\n",
        "\n",
        "# Print the total expected loss\n",
        "print('Total expected loss: ', '${:,.2f}'.format(tot_exp_loss))"
      ]
    },
    {
      "cell_type": "code",
      "execution_count": null,
      "metadata": {
        "id": "X6w548bp-W2w"
      },
      "outputs": [],
      "source": [
        ""
      ]
    }
  ],
  "metadata": {
    "kernelspec": {
      "display_name": "Python 3",
      "language": "python",
      "name": "python3"
    },
    "language_info": {
      "codemirror_mode": {
        "name": "ipython",
        "version": 3
      },
      "file_extension": ".py",
      "mimetype": "text/x-python",
      "name": "python",
      "nbconvert_exporter": "python",
      "pygments_lexer": "ipython3",
      "version": "3.7.3"
    },
    "colab": {
      "name": "Credit Risk Modelling GH.ipynb",
      "provenance": [],
      "collapsed_sections": []
    }
  },
  "nbformat": 4,
  "nbformat_minor": 0
}